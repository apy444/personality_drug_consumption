{
 "cells": [
  {
   "cell_type": "markdown",
   "metadata": {
    "ExecuteTime": {
     "end_time": "2019-11-04T15:49:15.862990Z",
     "start_time": "2019-11-04T15:49:15.860635Z"
    }
   },
   "source": [
    "# Is there a relationship between a person's personality and Cannabis consumption?\n",
    "\n",
    "According to the National Institute of Drug Abuse the drug usage related cost can reach or even exceed the annual $740 billion dollar in the USA: accidents from driving under the influence, crimes caused by or driven by drugs, healthcare cost, or when people dropout from potential workforce. The deaths caused by drug overdose is steadily increasing every year.\n",
    "\n",
    "Our purpose of the study is to identify the groups of people who are more likely to become users of a certain drug, so that we can reach them with preventive programs or targeted education that can keep them from becoming drug users.\n",
    "\n",
    "**[Cannabis](https://adf.org.au/drug-facts/cannabis/#wheel)**\n",
    "\n",
    "Cannabis is classified as a cannabinoid drug. Other names: marijuana, yarndi, pot, weed, hash, dope, gunja, joint, stick, chronic, cone, choof, mull, 420, dabs, dabbing, BHO.\n",
    "\n",
    "**How is it used?**\n",
    "Cannabis can be smoked, eaten or vaporized and comes in different forms (marijuana, hashish, hash oil, concentrates). Cannabis can be prepared into various foods generally called ‘edibles’ and can also come in synthetic form, which may be more harmful than real cannabis.\n",
    "\n",
    "**Effects of cannabis**\n",
    "Cannabis affects every individual differently. Even the same person may have a different experience on separate occasions or over the course of their life. Effects are dependent on how much and how often the cannabis is consumed and may also be affected by how the cannabis is consumed (e.g. vaporising a concentrate versus smoking the flower).\n",
    "\n",
    "- feelings of relaxation and euphoria\n",
    "- spontaneous laughter and excitement\n",
    "- increased sociability\n",
    "- increased appetite\n",
    "- dry mouth\n",
    "- memory impairment\n",
    "- slower reflexes\n",
    "- bloodshot eyes\n",
    "- increased heart rate\n",
    "- mild anxiety and paranoia\n",
    "- reduced cognitive functioning\n",
    "\n",
    "Those with a family history of mental illness are more likely to also experience anxiety, depression and psychotic symptoms (delusions, hallucinations and seeing or hearing things that do not exist or are distorted)."
   ]
  },
  {
   "cell_type": "markdown",
   "metadata": {},
   "source": [
    "## Import Packages"
   ]
  },
  {
   "cell_type": "code",
   "execution_count": 2,
   "metadata": {
    "ExecuteTime": {
     "end_time": "2019-11-06T15:27:48.986763Z",
     "start_time": "2019-11-06T15:27:48.927865Z"
    }
   },
   "outputs": [
    {
     "name": "stdout",
     "output_type": "stream",
     "text": [
      "The autoreload extension is already loaded. To reload it, use:\n",
      "  %reload_ext autoreload\n"
     ]
    }
   ],
   "source": [
    "%load_ext autoreload\n",
    "%autoreload 2\n",
    "\n",
    "import pandas as pd\n",
    "import numpy as np\n",
    "\n",
    "import warnings\n",
    "warnings.filterwarnings(\"ignore\")\n",
    "\n",
    "# libraries for cleaning and preprocessing data\n",
    "from sklearn.preprocessing import StandardScaler\n",
    "\n",
    "# libraries for modeling\n",
    "from sklearn.model_selection import train_test_split\n",
    "from sklearn.model_selection import GridSearchCV\n",
    "from sklearn.tree import DecisionTreeClassifier\n",
    "from sklearn.ensemble import AdaBoostClassifier, RandomForestClassifier, GradientBoostingClassifier\n",
    "from sklearn.linear_model import LogisticRegression\n",
    "from sklearn.neighbors import KNeighborsClassifier\n",
    "from sklearn.svm import SVC\n",
    "import xgboost as xgb\n",
    "\n",
    "# libraries for evaluating models\n",
    "from sklearn.metrics import confusion_matrix\n",
    "from sklearn.metrics import roc_curve, roc_auc_score\n",
    "\n",
    "# libraries for visualizations\n",
    "import matplotlib.pyplot as plt\n",
    "import seaborn as sns\n",
    "%matplotlib inline\n",
    "from visualizations import *"
   ]
  },
  {
   "cell_type": "markdown",
   "metadata": {},
   "source": [
    "## Preprocessing Data"
   ]
  },
  {
   "cell_type": "code",
   "execution_count": 33,
   "metadata": {
    "ExecuteTime": {
     "end_time": "2019-11-06T16:50:52.674144Z",
     "start_time": "2019-11-06T16:50:52.589505Z"
    },
    "scrolled": true
   },
   "outputs": [
    {
     "data": {
      "text/html": [
       "<div>\n",
       "<style scoped>\n",
       "    .dataframe tbody tr th:only-of-type {\n",
       "        vertical-align: middle;\n",
       "    }\n",
       "\n",
       "    .dataframe tbody tr th {\n",
       "        vertical-align: top;\n",
       "    }\n",
       "\n",
       "    .dataframe thead th {\n",
       "        text-align: right;\n",
       "    }\n",
       "</style>\n",
       "<table border=\"1\" class=\"dataframe\">\n",
       "  <thead>\n",
       "    <tr style=\"text-align: right;\">\n",
       "      <th></th>\n",
       "      <th>User</th>\n",
       "      <th>Age</th>\n",
       "      <th>Gender</th>\n",
       "      <th>Education</th>\n",
       "      <th>Neuroticism</th>\n",
       "      <th>Extraversion</th>\n",
       "      <th>Openness to experience</th>\n",
       "      <th>Agreeableness</th>\n",
       "      <th>Conscientiousness</th>\n",
       "      <th>Impusivity</th>\n",
       "      <th>Sensation-seeking</th>\n",
       "    </tr>\n",
       "  </thead>\n",
       "  <tbody>\n",
       "    <tr>\n",
       "      <th>0</th>\n",
       "      <td>0</td>\n",
       "      <td>2</td>\n",
       "      <td>0</td>\n",
       "      <td>5</td>\n",
       "      <td>0.31287</td>\n",
       "      <td>-0.57545</td>\n",
       "      <td>-0.58331</td>\n",
       "      <td>-0.91699</td>\n",
       "      <td>-0.00665</td>\n",
       "      <td>-0.21712</td>\n",
       "      <td>-1.18084</td>\n",
       "    </tr>\n",
       "    <tr>\n",
       "      <th>1</th>\n",
       "      <td>1</td>\n",
       "      <td>1</td>\n",
       "      <td>1</td>\n",
       "      <td>8</td>\n",
       "      <td>-0.67825</td>\n",
       "      <td>1.93886</td>\n",
       "      <td>1.43533</td>\n",
       "      <td>0.76096</td>\n",
       "      <td>-0.14277</td>\n",
       "      <td>-0.71126</td>\n",
       "      <td>-0.21575</td>\n",
       "    </tr>\n",
       "    <tr>\n",
       "      <th>2</th>\n",
       "      <td>1</td>\n",
       "      <td>2</td>\n",
       "      <td>1</td>\n",
       "      <td>5</td>\n",
       "      <td>-0.46725</td>\n",
       "      <td>0.80523</td>\n",
       "      <td>-0.84732</td>\n",
       "      <td>-1.62090</td>\n",
       "      <td>-1.01450</td>\n",
       "      <td>-1.37983</td>\n",
       "      <td>0.40148</td>\n",
       "    </tr>\n",
       "    <tr>\n",
       "      <th>3</th>\n",
       "      <td>1</td>\n",
       "      <td>0</td>\n",
       "      <td>0</td>\n",
       "      <td>7</td>\n",
       "      <td>-0.14882</td>\n",
       "      <td>-0.80615</td>\n",
       "      <td>-0.01928</td>\n",
       "      <td>0.59042</td>\n",
       "      <td>0.58489</td>\n",
       "      <td>-1.37983</td>\n",
       "      <td>-1.18084</td>\n",
       "    </tr>\n",
       "    <tr>\n",
       "      <th>4</th>\n",
       "      <td>1</td>\n",
       "      <td>2</td>\n",
       "      <td>0</td>\n",
       "      <td>8</td>\n",
       "      <td>0.73545</td>\n",
       "      <td>-1.63340</td>\n",
       "      <td>-0.45174</td>\n",
       "      <td>-0.30172</td>\n",
       "      <td>1.30612</td>\n",
       "      <td>-0.21712</td>\n",
       "      <td>-0.21575</td>\n",
       "    </tr>\n",
       "    <tr>\n",
       "      <th>5</th>\n",
       "      <td>0</td>\n",
       "      <td>5</td>\n",
       "      <td>0</td>\n",
       "      <td>3</td>\n",
       "      <td>-0.67825</td>\n",
       "      <td>-0.30033</td>\n",
       "      <td>-1.55521</td>\n",
       "      <td>2.03972</td>\n",
       "      <td>1.63088</td>\n",
       "      <td>-1.37983</td>\n",
       "      <td>-1.54858</td>\n",
       "    </tr>\n",
       "    <tr>\n",
       "      <th>6</th>\n",
       "      <td>0</td>\n",
       "      <td>3</td>\n",
       "      <td>1</td>\n",
       "      <td>7</td>\n",
       "      <td>-0.46725</td>\n",
       "      <td>-1.09207</td>\n",
       "      <td>-0.45174</td>\n",
       "      <td>-0.30172</td>\n",
       "      <td>0.93949</td>\n",
       "      <td>-0.21712</td>\n",
       "      <td>0.07987</td>\n",
       "    </tr>\n",
       "    <tr>\n",
       "      <th>7</th>\n",
       "      <td>0</td>\n",
       "      <td>2</td>\n",
       "      <td>1</td>\n",
       "      <td>1</td>\n",
       "      <td>-1.32828</td>\n",
       "      <td>1.93886</td>\n",
       "      <td>-0.84732</td>\n",
       "      <td>-0.30172</td>\n",
       "      <td>1.63088</td>\n",
       "      <td>0.19268</td>\n",
       "      <td>-0.52593</td>\n",
       "    </tr>\n",
       "    <tr>\n",
       "      <th>8</th>\n",
       "      <td>0</td>\n",
       "      <td>2</td>\n",
       "      <td>0</td>\n",
       "      <td>5</td>\n",
       "      <td>0.62967</td>\n",
       "      <td>2.57309</td>\n",
       "      <td>-0.97631</td>\n",
       "      <td>0.76096</td>\n",
       "      <td>1.13407</td>\n",
       "      <td>-1.37983</td>\n",
       "      <td>-1.54858</td>\n",
       "    </tr>\n",
       "    <tr>\n",
       "      <th>9</th>\n",
       "      <td>0</td>\n",
       "      <td>4</td>\n",
       "      <td>1</td>\n",
       "      <td>7</td>\n",
       "      <td>-0.24649</td>\n",
       "      <td>0.00332</td>\n",
       "      <td>-1.42424</td>\n",
       "      <td>0.59042</td>\n",
       "      <td>0.12331</td>\n",
       "      <td>-1.37983</td>\n",
       "      <td>-0.84637</td>\n",
       "    </tr>\n",
       "    <tr>\n",
       "      <th>10</th>\n",
       "      <td>1</td>\n",
       "      <td>1</td>\n",
       "      <td>0</td>\n",
       "      <td>6</td>\n",
       "      <td>-1.05308</td>\n",
       "      <td>0.80523</td>\n",
       "      <td>-1.11902</td>\n",
       "      <td>-0.76096</td>\n",
       "      <td>1.81175</td>\n",
       "      <td>0.19268</td>\n",
       "      <td>0.07987</td>\n",
       "    </tr>\n",
       "    <tr>\n",
       "      <th>11</th>\n",
       "      <td>1</td>\n",
       "      <td>3</td>\n",
       "      <td>1</td>\n",
       "      <td>4</td>\n",
       "      <td>-1.32828</td>\n",
       "      <td>0.00332</td>\n",
       "      <td>0.14143</td>\n",
       "      <td>-1.92595</td>\n",
       "      <td>-0.52745</td>\n",
       "      <td>0.52975</td>\n",
       "      <td>1.22470</td>\n",
       "    </tr>\n",
       "    <tr>\n",
       "      <th>12</th>\n",
       "      <td>1</td>\n",
       "      <td>4</td>\n",
       "      <td>0</td>\n",
       "      <td>6</td>\n",
       "      <td>2.28554</td>\n",
       "      <td>0.16767</td>\n",
       "      <td>0.44585</td>\n",
       "      <td>-1.62090</td>\n",
       "      <td>-0.78155</td>\n",
       "      <td>1.29221</td>\n",
       "      <td>0.07987</td>\n",
       "    </tr>\n",
       "    <tr>\n",
       "      <th>13</th>\n",
       "      <td>0</td>\n",
       "      <td>4</td>\n",
       "      <td>0</td>\n",
       "      <td>5</td>\n",
       "      <td>-0.79151</td>\n",
       "      <td>0.80523</td>\n",
       "      <td>-0.01928</td>\n",
       "      <td>0.94156</td>\n",
       "      <td>3.46436</td>\n",
       "      <td>-0.71126</td>\n",
       "      <td>-0.84637</td>\n",
       "    </tr>\n",
       "    <tr>\n",
       "      <th>14</th>\n",
       "      <td>0</td>\n",
       "      <td>4</td>\n",
       "      <td>0</td>\n",
       "      <td>5</td>\n",
       "      <td>-0.92104</td>\n",
       "      <td>1.45421</td>\n",
       "      <td>0.44585</td>\n",
       "      <td>-0.60633</td>\n",
       "      <td>1.63088</td>\n",
       "      <td>1.29221</td>\n",
       "      <td>0.76540</td>\n",
       "    </tr>\n",
       "    <tr>\n",
       "      <th>15</th>\n",
       "      <td>0</td>\n",
       "      <td>4</td>\n",
       "      <td>1</td>\n",
       "      <td>6</td>\n",
       "      <td>-2.05048</td>\n",
       "      <td>-1.50796</td>\n",
       "      <td>-1.55521</td>\n",
       "      <td>-1.07533</td>\n",
       "      <td>1.13407</td>\n",
       "      <td>-0.71126</td>\n",
       "      <td>-0.52593</td>\n",
       "    </tr>\n",
       "    <tr>\n",
       "      <th>16</th>\n",
       "      <td>1</td>\n",
       "      <td>2</td>\n",
       "      <td>0</td>\n",
       "      <td>4</td>\n",
       "      <td>-1.55078</td>\n",
       "      <td>-0.80615</td>\n",
       "      <td>-1.68062</td>\n",
       "      <td>0.28783</td>\n",
       "      <td>0.75830</td>\n",
       "      <td>-0.21712</td>\n",
       "      <td>-2.07848</td>\n",
       "    </tr>\n",
       "    <tr>\n",
       "      <th>17</th>\n",
       "      <td>1</td>\n",
       "      <td>3</td>\n",
       "      <td>1</td>\n",
       "      <td>1</td>\n",
       "      <td>0.52135</td>\n",
       "      <td>-1.23177</td>\n",
       "      <td>-0.31776</td>\n",
       "      <td>-0.45321</td>\n",
       "      <td>-1.38502</td>\n",
       "      <td>-1.37983</td>\n",
       "      <td>-0.84637</td>\n",
       "    </tr>\n",
       "    <tr>\n",
       "      <th>18</th>\n",
       "      <td>1</td>\n",
       "      <td>4</td>\n",
       "      <td>1</td>\n",
       "      <td>6</td>\n",
       "      <td>1.37297</td>\n",
       "      <td>-0.15487</td>\n",
       "      <td>-0.17779</td>\n",
       "      <td>-1.92595</td>\n",
       "      <td>-1.51840</td>\n",
       "      <td>-0.71126</td>\n",
       "      <td>-0.21575</td>\n",
       "    </tr>\n",
       "    <tr>\n",
       "      <th>19</th>\n",
       "      <td>0</td>\n",
       "      <td>2</td>\n",
       "      <td>1</td>\n",
       "      <td>5</td>\n",
       "      <td>-0.34799</td>\n",
       "      <td>-1.76250</td>\n",
       "      <td>-2.39883</td>\n",
       "      <td>-1.92595</td>\n",
       "      <td>0.75830</td>\n",
       "      <td>-1.37983</td>\n",
       "      <td>-2.07848</td>\n",
       "    </tr>\n",
       "    <tr>\n",
       "      <th>20</th>\n",
       "      <td>1</td>\n",
       "      <td>3</td>\n",
       "      <td>1</td>\n",
       "      <td>5</td>\n",
       "      <td>-0.79151</td>\n",
       "      <td>0.80523</td>\n",
       "      <td>0.72330</td>\n",
       "      <td>1.61108</td>\n",
       "      <td>-1.13788</td>\n",
       "      <td>0.19268</td>\n",
       "      <td>-0.21575</td>\n",
       "    </tr>\n",
       "    <tr>\n",
       "      <th>21</th>\n",
       "      <td>0</td>\n",
       "      <td>5</td>\n",
       "      <td>1</td>\n",
       "      <td>0</td>\n",
       "      <td>-1.19430</td>\n",
       "      <td>0.47617</td>\n",
       "      <td>-1.11902</td>\n",
       "      <td>-0.60633</td>\n",
       "      <td>1.81175</td>\n",
       "      <td>-0.21712</td>\n",
       "      <td>-1.18084</td>\n",
       "    </tr>\n",
       "    <tr>\n",
       "      <th>22</th>\n",
       "      <td>0</td>\n",
       "      <td>3</td>\n",
       "      <td>1</td>\n",
       "      <td>6</td>\n",
       "      <td>0.41667</td>\n",
       "      <td>-0.94779</td>\n",
       "      <td>-0.84732</td>\n",
       "      <td>1.11406</td>\n",
       "      <td>-0.89891</td>\n",
       "      <td>-0.71126</td>\n",
       "      <td>0.07987</td>\n",
       "    </tr>\n",
       "    <tr>\n",
       "      <th>23</th>\n",
       "      <td>1</td>\n",
       "      <td>3</td>\n",
       "      <td>1</td>\n",
       "      <td>1</td>\n",
       "      <td>1.60383</td>\n",
       "      <td>-3.27393</td>\n",
       "      <td>-1.27553</td>\n",
       "      <td>0.28783</td>\n",
       "      <td>-1.01450</td>\n",
       "      <td>-1.37983</td>\n",
       "      <td>-1.54858</td>\n",
       "    </tr>\n",
       "    <tr>\n",
       "      <th>24</th>\n",
       "      <td>0</td>\n",
       "      <td>4</td>\n",
       "      <td>1</td>\n",
       "      <td>6</td>\n",
       "      <td>-0.14882</td>\n",
       "      <td>0.63779</td>\n",
       "      <td>1.24033</td>\n",
       "      <td>0.76096</td>\n",
       "      <td>1.46191</td>\n",
       "      <td>-0.21712</td>\n",
       "      <td>-0.52593</td>\n",
       "    </tr>\n",
       "    <tr>\n",
       "      <th>25</th>\n",
       "      <td>0</td>\n",
       "      <td>3</td>\n",
       "      <td>1</td>\n",
       "      <td>4</td>\n",
       "      <td>-0.79151</td>\n",
       "      <td>-0.43999</td>\n",
       "      <td>-1.27553</td>\n",
       "      <td>0.94156</td>\n",
       "      <td>-0.00665</td>\n",
       "      <td>-0.21712</td>\n",
       "      <td>0.40148</td>\n",
       "    </tr>\n",
       "    <tr>\n",
       "      <th>26</th>\n",
       "      <td>0</td>\n",
       "      <td>4</td>\n",
       "      <td>0</td>\n",
       "      <td>3</td>\n",
       "      <td>-0.05188</td>\n",
       "      <td>-1.63340</td>\n",
       "      <td>-3.27393</td>\n",
       "      <td>-0.76096</td>\n",
       "      <td>0.58489</td>\n",
       "      <td>0.19268</td>\n",
       "      <td>-1.54858</td>\n",
       "    </tr>\n",
       "    <tr>\n",
       "      <th>27</th>\n",
       "      <td>1</td>\n",
       "      <td>2</td>\n",
       "      <td>1</td>\n",
       "      <td>6</td>\n",
       "      <td>0.52135</td>\n",
       "      <td>-1.23177</td>\n",
       "      <td>-0.01928</td>\n",
       "      <td>-0.01729</td>\n",
       "      <td>-2.18109</td>\n",
       "      <td>1.86203</td>\n",
       "      <td>0.40148</td>\n",
       "    </tr>\n",
       "    <tr>\n",
       "      <th>28</th>\n",
       "      <td>0</td>\n",
       "      <td>2</td>\n",
       "      <td>0</td>\n",
       "      <td>7</td>\n",
       "      <td>0.04257</td>\n",
       "      <td>-1.50796</td>\n",
       "      <td>-0.71727</td>\n",
       "      <td>0.28783</td>\n",
       "      <td>1.30612</td>\n",
       "      <td>0.19268</td>\n",
       "      <td>-0.52593</td>\n",
       "    </tr>\n",
       "    <tr>\n",
       "      <th>29</th>\n",
       "      <td>0</td>\n",
       "      <td>3</td>\n",
       "      <td>1</td>\n",
       "      <td>8</td>\n",
       "      <td>-1.32828</td>\n",
       "      <td>1.74091</td>\n",
       "      <td>0.88309</td>\n",
       "      <td>0.94156</td>\n",
       "      <td>1.81175</td>\n",
       "      <td>-0.21712</td>\n",
       "      <td>-0.52593</td>\n",
       "    </tr>\n",
       "    <tr>\n",
       "      <th>...</th>\n",
       "      <td>...</td>\n",
       "      <td>...</td>\n",
       "      <td>...</td>\n",
       "      <td>...</td>\n",
       "      <td>...</td>\n",
       "      <td>...</td>\n",
       "      <td>...</td>\n",
       "      <td>...</td>\n",
       "      <td>...</td>\n",
       "      <td>...</td>\n",
       "      <td>...</td>\n",
       "    </tr>\n",
       "    <tr>\n",
       "      <th>1855</th>\n",
       "      <td>1</td>\n",
       "      <td>2</td>\n",
       "      <td>1</td>\n",
       "      <td>5</td>\n",
       "      <td>-1.19430</td>\n",
       "      <td>1.11406</td>\n",
       "      <td>0.58331</td>\n",
       "      <td>-0.01729</td>\n",
       "      <td>0.12331</td>\n",
       "      <td>-0.71126</td>\n",
       "      <td>0.40148</td>\n",
       "    </tr>\n",
       "    <tr>\n",
       "      <th>1856</th>\n",
       "      <td>1</td>\n",
       "      <td>0</td>\n",
       "      <td>1</td>\n",
       "      <td>4</td>\n",
       "      <td>0.31287</td>\n",
       "      <td>-0.57545</td>\n",
       "      <td>-0.31776</td>\n",
       "      <td>-1.47955</td>\n",
       "      <td>-0.89891</td>\n",
       "      <td>-1.37983</td>\n",
       "      <td>0.76540</td>\n",
       "    </tr>\n",
       "    <tr>\n",
       "      <th>1857</th>\n",
       "      <td>1</td>\n",
       "      <td>0</td>\n",
       "      <td>1</td>\n",
       "      <td>4</td>\n",
       "      <td>1.72012</td>\n",
       "      <td>0.32197</td>\n",
       "      <td>1.65653</td>\n",
       "      <td>-0.15487</td>\n",
       "      <td>-1.78169</td>\n",
       "      <td>2.90161</td>\n",
       "      <td>0.40148</td>\n",
       "    </tr>\n",
       "    <tr>\n",
       "      <th>1858</th>\n",
       "      <td>1</td>\n",
       "      <td>0</td>\n",
       "      <td>1</td>\n",
       "      <td>3</td>\n",
       "      <td>-0.24649</td>\n",
       "      <td>0.32197</td>\n",
       "      <td>0.44585</td>\n",
       "      <td>-0.15487</td>\n",
       "      <td>-0.14277</td>\n",
       "      <td>0.88113</td>\n",
       "      <td>1.22470</td>\n",
       "    </tr>\n",
       "    <tr>\n",
       "      <th>1859</th>\n",
       "      <td>1</td>\n",
       "      <td>2</td>\n",
       "      <td>1</td>\n",
       "      <td>4</td>\n",
       "      <td>-0.34799</td>\n",
       "      <td>0.00332</td>\n",
       "      <td>0.72330</td>\n",
       "      <td>0.28783</td>\n",
       "      <td>0.12331</td>\n",
       "      <td>-0.21712</td>\n",
       "      <td>0.76540</td>\n",
       "    </tr>\n",
       "    <tr>\n",
       "      <th>1860</th>\n",
       "      <td>1</td>\n",
       "      <td>4</td>\n",
       "      <td>0</td>\n",
       "      <td>6</td>\n",
       "      <td>-1.69163</td>\n",
       "      <td>-1.09207</td>\n",
       "      <td>1.06238</td>\n",
       "      <td>-0.45321</td>\n",
       "      <td>-0.65253</td>\n",
       "      <td>-0.71126</td>\n",
       "      <td>0.07987</td>\n",
       "    </tr>\n",
       "    <tr>\n",
       "      <th>1861</th>\n",
       "      <td>1</td>\n",
       "      <td>1</td>\n",
       "      <td>0</td>\n",
       "      <td>6</td>\n",
       "      <td>-0.34799</td>\n",
       "      <td>0.00332</td>\n",
       "      <td>1.24033</td>\n",
       "      <td>-0.15487</td>\n",
       "      <td>0.41594</td>\n",
       "      <td>0.88113</td>\n",
       "      <td>0.40148</td>\n",
       "    </tr>\n",
       "    <tr>\n",
       "      <th>1862</th>\n",
       "      <td>1</td>\n",
       "      <td>3</td>\n",
       "      <td>1</td>\n",
       "      <td>0</td>\n",
       "      <td>0.73545</td>\n",
       "      <td>-0.43999</td>\n",
       "      <td>0.44585</td>\n",
       "      <td>-1.07533</td>\n",
       "      <td>0.25953</td>\n",
       "      <td>0.52975</td>\n",
       "      <td>0.40148</td>\n",
       "    </tr>\n",
       "    <tr>\n",
       "      <th>1863</th>\n",
       "      <td>1</td>\n",
       "      <td>0</td>\n",
       "      <td>0</td>\n",
       "      <td>4</td>\n",
       "      <td>0.62967</td>\n",
       "      <td>0.63779</td>\n",
       "      <td>2.90161</td>\n",
       "      <td>-1.07533</td>\n",
       "      <td>0.93949</td>\n",
       "      <td>0.88113</td>\n",
       "      <td>1.22470</td>\n",
       "    </tr>\n",
       "    <tr>\n",
       "      <th>1864</th>\n",
       "      <td>1</td>\n",
       "      <td>1</td>\n",
       "      <td>1</td>\n",
       "      <td>4</td>\n",
       "      <td>-2.05048</td>\n",
       "      <td>0.00332</td>\n",
       "      <td>2.15324</td>\n",
       "      <td>-0.91699</td>\n",
       "      <td>0.41594</td>\n",
       "      <td>-0.21712</td>\n",
       "      <td>0.40148</td>\n",
       "    </tr>\n",
       "    <tr>\n",
       "      <th>1865</th>\n",
       "      <td>1</td>\n",
       "      <td>0</td>\n",
       "      <td>0</td>\n",
       "      <td>5</td>\n",
       "      <td>0.04257</td>\n",
       "      <td>0.00332</td>\n",
       "      <td>2.44904</td>\n",
       "      <td>-0.60633</td>\n",
       "      <td>-2.18109</td>\n",
       "      <td>0.88113</td>\n",
       "      <td>1.22470</td>\n",
       "    </tr>\n",
       "    <tr>\n",
       "      <th>1866</th>\n",
       "      <td>1</td>\n",
       "      <td>0</td>\n",
       "      <td>0</td>\n",
       "      <td>6</td>\n",
       "      <td>0.13606</td>\n",
       "      <td>-0.80615</td>\n",
       "      <td>1.43533</td>\n",
       "      <td>0.28783</td>\n",
       "      <td>1.63088</td>\n",
       "      <td>-0.71126</td>\n",
       "      <td>-0.21575</td>\n",
       "    </tr>\n",
       "    <tr>\n",
       "      <th>1867</th>\n",
       "      <td>1</td>\n",
       "      <td>0</td>\n",
       "      <td>0</td>\n",
       "      <td>4</td>\n",
       "      <td>1.13281</td>\n",
       "      <td>-0.43999</td>\n",
       "      <td>0.29338</td>\n",
       "      <td>-0.76096</td>\n",
       "      <td>-0.14277</td>\n",
       "      <td>1.86203</td>\n",
       "      <td>-0.21575</td>\n",
       "    </tr>\n",
       "    <tr>\n",
       "      <th>1868</th>\n",
       "      <td>1</td>\n",
       "      <td>0</td>\n",
       "      <td>1</td>\n",
       "      <td>4</td>\n",
       "      <td>-0.58016</td>\n",
       "      <td>-0.15487</td>\n",
       "      <td>0.29338</td>\n",
       "      <td>-1.62090</td>\n",
       "      <td>-1.38502</td>\n",
       "      <td>0.19268</td>\n",
       "      <td>0.40148</td>\n",
       "    </tr>\n",
       "    <tr>\n",
       "      <th>1869</th>\n",
       "      <td>1</td>\n",
       "      <td>0</td>\n",
       "      <td>1</td>\n",
       "      <td>4</td>\n",
       "      <td>-0.14882</td>\n",
       "      <td>1.11406</td>\n",
       "      <td>1.43533</td>\n",
       "      <td>-0.30172</td>\n",
       "      <td>-0.00665</td>\n",
       "      <td>0.19268</td>\n",
       "      <td>0.76540</td>\n",
       "    </tr>\n",
       "    <tr>\n",
       "      <th>1870</th>\n",
       "      <td>1</td>\n",
       "      <td>1</td>\n",
       "      <td>0</td>\n",
       "      <td>6</td>\n",
       "      <td>-1.05308</td>\n",
       "      <td>0.96248</td>\n",
       "      <td>1.88511</td>\n",
       "      <td>1.81866</td>\n",
       "      <td>1.30612</td>\n",
       "      <td>-0.71126</td>\n",
       "      <td>0.07987</td>\n",
       "    </tr>\n",
       "    <tr>\n",
       "      <th>1871</th>\n",
       "      <td>1</td>\n",
       "      <td>0</td>\n",
       "      <td>1</td>\n",
       "      <td>3</td>\n",
       "      <td>1.02119</td>\n",
       "      <td>-0.43999</td>\n",
       "      <td>1.43533</td>\n",
       "      <td>-1.07533</td>\n",
       "      <td>0.12331</td>\n",
       "      <td>-0.71126</td>\n",
       "      <td>0.40148</td>\n",
       "    </tr>\n",
       "    <tr>\n",
       "      <th>1872</th>\n",
       "      <td>1</td>\n",
       "      <td>0</td>\n",
       "      <td>1</td>\n",
       "      <td>4</td>\n",
       "      <td>-0.79151</td>\n",
       "      <td>0.00332</td>\n",
       "      <td>2.44904</td>\n",
       "      <td>0.76096</td>\n",
       "      <td>-1.51840</td>\n",
       "      <td>0.88113</td>\n",
       "      <td>1.92173</td>\n",
       "    </tr>\n",
       "    <tr>\n",
       "      <th>1873</th>\n",
       "      <td>1</td>\n",
       "      <td>0</td>\n",
       "      <td>1</td>\n",
       "      <td>2</td>\n",
       "      <td>0.73545</td>\n",
       "      <td>-1.23177</td>\n",
       "      <td>0.58331</td>\n",
       "      <td>-0.60633</td>\n",
       "      <td>-0.40581</td>\n",
       "      <td>0.52975</td>\n",
       "      <td>0.40148</td>\n",
       "    </tr>\n",
       "    <tr>\n",
       "      <th>1874</th>\n",
       "      <td>1</td>\n",
       "      <td>5</td>\n",
       "      <td>1</td>\n",
       "      <td>4</td>\n",
       "      <td>2.12700</td>\n",
       "      <td>-0.15487</td>\n",
       "      <td>2.44904</td>\n",
       "      <td>0.94156</td>\n",
       "      <td>-0.65253</td>\n",
       "      <td>-0.21712</td>\n",
       "      <td>0.07987</td>\n",
       "    </tr>\n",
       "    <tr>\n",
       "      <th>1875</th>\n",
       "      <td>1</td>\n",
       "      <td>0</td>\n",
       "      <td>1</td>\n",
       "      <td>4</td>\n",
       "      <td>-0.05188</td>\n",
       "      <td>-1.76250</td>\n",
       "      <td>0.58331</td>\n",
       "      <td>-0.76096</td>\n",
       "      <td>-0.14277</td>\n",
       "      <td>1.29221</td>\n",
       "      <td>1.22470</td>\n",
       "    </tr>\n",
       "    <tr>\n",
       "      <th>1876</th>\n",
       "      <td>1</td>\n",
       "      <td>1</td>\n",
       "      <td>1</td>\n",
       "      <td>4</td>\n",
       "      <td>-0.14882</td>\n",
       "      <td>-0.57545</td>\n",
       "      <td>1.43533</td>\n",
       "      <td>-0.91699</td>\n",
       "      <td>-0.78155</td>\n",
       "      <td>0.52975</td>\n",
       "      <td>0.40148</td>\n",
       "    </tr>\n",
       "    <tr>\n",
       "      <th>1877</th>\n",
       "      <td>1</td>\n",
       "      <td>0</td>\n",
       "      <td>1</td>\n",
       "      <td>2</td>\n",
       "      <td>1.49158</td>\n",
       "      <td>-1.92173</td>\n",
       "      <td>-0.58331</td>\n",
       "      <td>-1.77200</td>\n",
       "      <td>0.58489</td>\n",
       "      <td>-0.21712</td>\n",
       "      <td>1.22470</td>\n",
       "    </tr>\n",
       "    <tr>\n",
       "      <th>1878</th>\n",
       "      <td>1</td>\n",
       "      <td>0</td>\n",
       "      <td>1</td>\n",
       "      <td>6</td>\n",
       "      <td>-0.05188</td>\n",
       "      <td>-1.76250</td>\n",
       "      <td>0.88309</td>\n",
       "      <td>-0.76096</td>\n",
       "      <td>2.33337</td>\n",
       "      <td>-0.71126</td>\n",
       "      <td>-0.21575</td>\n",
       "    </tr>\n",
       "    <tr>\n",
       "      <th>1879</th>\n",
       "      <td>1</td>\n",
       "      <td>0</td>\n",
       "      <td>1</td>\n",
       "      <td>4</td>\n",
       "      <td>-0.79151</td>\n",
       "      <td>0.32197</td>\n",
       "      <td>0.29338</td>\n",
       "      <td>-0.30172</td>\n",
       "      <td>-0.27607</td>\n",
       "      <td>0.88113</td>\n",
       "      <td>0.76540</td>\n",
       "    </tr>\n",
       "    <tr>\n",
       "      <th>1880</th>\n",
       "      <td>1</td>\n",
       "      <td>0</td>\n",
       "      <td>0</td>\n",
       "      <td>4</td>\n",
       "      <td>-1.19430</td>\n",
       "      <td>1.74091</td>\n",
       "      <td>1.88511</td>\n",
       "      <td>0.76096</td>\n",
       "      <td>-1.13788</td>\n",
       "      <td>0.88113</td>\n",
       "      <td>1.92173</td>\n",
       "    </tr>\n",
       "    <tr>\n",
       "      <th>1881</th>\n",
       "      <td>1</td>\n",
       "      <td>0</td>\n",
       "      <td>1</td>\n",
       "      <td>4</td>\n",
       "      <td>-0.24649</td>\n",
       "      <td>1.74091</td>\n",
       "      <td>0.58331</td>\n",
       "      <td>0.76096</td>\n",
       "      <td>-1.51840</td>\n",
       "      <td>0.88113</td>\n",
       "      <td>0.76540</td>\n",
       "    </tr>\n",
       "    <tr>\n",
       "      <th>1882</th>\n",
       "      <td>1</td>\n",
       "      <td>1</td>\n",
       "      <td>0</td>\n",
       "      <td>6</td>\n",
       "      <td>1.13281</td>\n",
       "      <td>-1.37639</td>\n",
       "      <td>-1.27553</td>\n",
       "      <td>-1.77200</td>\n",
       "      <td>-1.38502</td>\n",
       "      <td>0.52975</td>\n",
       "      <td>-0.52593</td>\n",
       "    </tr>\n",
       "    <tr>\n",
       "      <th>1883</th>\n",
       "      <td>1</td>\n",
       "      <td>0</td>\n",
       "      <td>0</td>\n",
       "      <td>4</td>\n",
       "      <td>0.91093</td>\n",
       "      <td>-1.92173</td>\n",
       "      <td>0.29338</td>\n",
       "      <td>-1.62090</td>\n",
       "      <td>-2.57309</td>\n",
       "      <td>1.29221</td>\n",
       "      <td>1.22470</td>\n",
       "    </tr>\n",
       "    <tr>\n",
       "      <th>1884</th>\n",
       "      <td>1</td>\n",
       "      <td>0</td>\n",
       "      <td>1</td>\n",
       "      <td>4</td>\n",
       "      <td>-0.46725</td>\n",
       "      <td>2.12700</td>\n",
       "      <td>1.65653</td>\n",
       "      <td>1.11406</td>\n",
       "      <td>0.41594</td>\n",
       "      <td>0.88113</td>\n",
       "      <td>1.22470</td>\n",
       "    </tr>\n",
       "  </tbody>\n",
       "</table>\n",
       "<p>1885 rows × 11 columns</p>\n",
       "</div>"
      ],
      "text/plain": [
       "      User  Age  Gender  Education  Neuroticism  Extraversion  \\\n",
       "0        0    2       0          5      0.31287      -0.57545   \n",
       "1        1    1       1          8     -0.67825       1.93886   \n",
       "2        1    2       1          5     -0.46725       0.80523   \n",
       "3        1    0       0          7     -0.14882      -0.80615   \n",
       "4        1    2       0          8      0.73545      -1.63340   \n",
       "5        0    5       0          3     -0.67825      -0.30033   \n",
       "6        0    3       1          7     -0.46725      -1.09207   \n",
       "7        0    2       1          1     -1.32828       1.93886   \n",
       "8        0    2       0          5      0.62967       2.57309   \n",
       "9        0    4       1          7     -0.24649       0.00332   \n",
       "10       1    1       0          6     -1.05308       0.80523   \n",
       "11       1    3       1          4     -1.32828       0.00332   \n",
       "12       1    4       0          6      2.28554       0.16767   \n",
       "13       0    4       0          5     -0.79151       0.80523   \n",
       "14       0    4       0          5     -0.92104       1.45421   \n",
       "15       0    4       1          6     -2.05048      -1.50796   \n",
       "16       1    2       0          4     -1.55078      -0.80615   \n",
       "17       1    3       1          1      0.52135      -1.23177   \n",
       "18       1    4       1          6      1.37297      -0.15487   \n",
       "19       0    2       1          5     -0.34799      -1.76250   \n",
       "20       1    3       1          5     -0.79151       0.80523   \n",
       "21       0    5       1          0     -1.19430       0.47617   \n",
       "22       0    3       1          6      0.41667      -0.94779   \n",
       "23       1    3       1          1      1.60383      -3.27393   \n",
       "24       0    4       1          6     -0.14882       0.63779   \n",
       "25       0    3       1          4     -0.79151      -0.43999   \n",
       "26       0    4       0          3     -0.05188      -1.63340   \n",
       "27       1    2       1          6      0.52135      -1.23177   \n",
       "28       0    2       0          7      0.04257      -1.50796   \n",
       "29       0    3       1          8     -1.32828       1.74091   \n",
       "...    ...  ...     ...        ...          ...           ...   \n",
       "1855     1    2       1          5     -1.19430       1.11406   \n",
       "1856     1    0       1          4      0.31287      -0.57545   \n",
       "1857     1    0       1          4      1.72012       0.32197   \n",
       "1858     1    0       1          3     -0.24649       0.32197   \n",
       "1859     1    2       1          4     -0.34799       0.00332   \n",
       "1860     1    4       0          6     -1.69163      -1.09207   \n",
       "1861     1    1       0          6     -0.34799       0.00332   \n",
       "1862     1    3       1          0      0.73545      -0.43999   \n",
       "1863     1    0       0          4      0.62967       0.63779   \n",
       "1864     1    1       1          4     -2.05048       0.00332   \n",
       "1865     1    0       0          5      0.04257       0.00332   \n",
       "1866     1    0       0          6      0.13606      -0.80615   \n",
       "1867     1    0       0          4      1.13281      -0.43999   \n",
       "1868     1    0       1          4     -0.58016      -0.15487   \n",
       "1869     1    0       1          4     -0.14882       1.11406   \n",
       "1870     1    1       0          6     -1.05308       0.96248   \n",
       "1871     1    0       1          3      1.02119      -0.43999   \n",
       "1872     1    0       1          4     -0.79151       0.00332   \n",
       "1873     1    0       1          2      0.73545      -1.23177   \n",
       "1874     1    5       1          4      2.12700      -0.15487   \n",
       "1875     1    0       1          4     -0.05188      -1.76250   \n",
       "1876     1    1       1          4     -0.14882      -0.57545   \n",
       "1877     1    0       1          2      1.49158      -1.92173   \n",
       "1878     1    0       1          6     -0.05188      -1.76250   \n",
       "1879     1    0       1          4     -0.79151       0.32197   \n",
       "1880     1    0       0          4     -1.19430       1.74091   \n",
       "1881     1    0       1          4     -0.24649       1.74091   \n",
       "1882     1    1       0          6      1.13281      -1.37639   \n",
       "1883     1    0       0          4      0.91093      -1.92173   \n",
       "1884     1    0       1          4     -0.46725       2.12700   \n",
       "\n",
       "      Openness to experience  Agreeableness  Conscientiousness  Impusivity  \\\n",
       "0                   -0.58331       -0.91699           -0.00665    -0.21712   \n",
       "1                    1.43533        0.76096           -0.14277    -0.71126   \n",
       "2                   -0.84732       -1.62090           -1.01450    -1.37983   \n",
       "3                   -0.01928        0.59042            0.58489    -1.37983   \n",
       "4                   -0.45174       -0.30172            1.30612    -0.21712   \n",
       "5                   -1.55521        2.03972            1.63088    -1.37983   \n",
       "6                   -0.45174       -0.30172            0.93949    -0.21712   \n",
       "7                   -0.84732       -0.30172            1.63088     0.19268   \n",
       "8                   -0.97631        0.76096            1.13407    -1.37983   \n",
       "9                   -1.42424        0.59042            0.12331    -1.37983   \n",
       "10                  -1.11902       -0.76096            1.81175     0.19268   \n",
       "11                   0.14143       -1.92595           -0.52745     0.52975   \n",
       "12                   0.44585       -1.62090           -0.78155     1.29221   \n",
       "13                  -0.01928        0.94156            3.46436    -0.71126   \n",
       "14                   0.44585       -0.60633            1.63088     1.29221   \n",
       "15                  -1.55521       -1.07533            1.13407    -0.71126   \n",
       "16                  -1.68062        0.28783            0.75830    -0.21712   \n",
       "17                  -0.31776       -0.45321           -1.38502    -1.37983   \n",
       "18                  -0.17779       -1.92595           -1.51840    -0.71126   \n",
       "19                  -2.39883       -1.92595            0.75830    -1.37983   \n",
       "20                   0.72330        1.61108           -1.13788     0.19268   \n",
       "21                  -1.11902       -0.60633            1.81175    -0.21712   \n",
       "22                  -0.84732        1.11406           -0.89891    -0.71126   \n",
       "23                  -1.27553        0.28783           -1.01450    -1.37983   \n",
       "24                   1.24033        0.76096            1.46191    -0.21712   \n",
       "25                  -1.27553        0.94156           -0.00665    -0.21712   \n",
       "26                  -3.27393       -0.76096            0.58489     0.19268   \n",
       "27                  -0.01928       -0.01729           -2.18109     1.86203   \n",
       "28                  -0.71727        0.28783            1.30612     0.19268   \n",
       "29                   0.88309        0.94156            1.81175    -0.21712   \n",
       "...                      ...            ...                ...         ...   \n",
       "1855                 0.58331       -0.01729            0.12331    -0.71126   \n",
       "1856                -0.31776       -1.47955           -0.89891    -1.37983   \n",
       "1857                 1.65653       -0.15487           -1.78169     2.90161   \n",
       "1858                 0.44585       -0.15487           -0.14277     0.88113   \n",
       "1859                 0.72330        0.28783            0.12331    -0.21712   \n",
       "1860                 1.06238       -0.45321           -0.65253    -0.71126   \n",
       "1861                 1.24033       -0.15487            0.41594     0.88113   \n",
       "1862                 0.44585       -1.07533            0.25953     0.52975   \n",
       "1863                 2.90161       -1.07533            0.93949     0.88113   \n",
       "1864                 2.15324       -0.91699            0.41594    -0.21712   \n",
       "1865                 2.44904       -0.60633           -2.18109     0.88113   \n",
       "1866                 1.43533        0.28783            1.63088    -0.71126   \n",
       "1867                 0.29338       -0.76096           -0.14277     1.86203   \n",
       "1868                 0.29338       -1.62090           -1.38502     0.19268   \n",
       "1869                 1.43533       -0.30172           -0.00665     0.19268   \n",
       "1870                 1.88511        1.81866            1.30612    -0.71126   \n",
       "1871                 1.43533       -1.07533            0.12331    -0.71126   \n",
       "1872                 2.44904        0.76096           -1.51840     0.88113   \n",
       "1873                 0.58331       -0.60633           -0.40581     0.52975   \n",
       "1874                 2.44904        0.94156           -0.65253    -0.21712   \n",
       "1875                 0.58331       -0.76096           -0.14277     1.29221   \n",
       "1876                 1.43533       -0.91699           -0.78155     0.52975   \n",
       "1877                -0.58331       -1.77200            0.58489    -0.21712   \n",
       "1878                 0.88309       -0.76096            2.33337    -0.71126   \n",
       "1879                 0.29338       -0.30172           -0.27607     0.88113   \n",
       "1880                 1.88511        0.76096           -1.13788     0.88113   \n",
       "1881                 0.58331        0.76096           -1.51840     0.88113   \n",
       "1882                -1.27553       -1.77200           -1.38502     0.52975   \n",
       "1883                 0.29338       -1.62090           -2.57309     1.29221   \n",
       "1884                 1.65653        1.11406            0.41594     0.88113   \n",
       "\n",
       "      Sensation-seeking  \n",
       "0              -1.18084  \n",
       "1              -0.21575  \n",
       "2               0.40148  \n",
       "3              -1.18084  \n",
       "4              -0.21575  \n",
       "5              -1.54858  \n",
       "6               0.07987  \n",
       "7              -0.52593  \n",
       "8              -1.54858  \n",
       "9              -0.84637  \n",
       "10              0.07987  \n",
       "11              1.22470  \n",
       "12              0.07987  \n",
       "13             -0.84637  \n",
       "14              0.76540  \n",
       "15             -0.52593  \n",
       "16             -2.07848  \n",
       "17             -0.84637  \n",
       "18             -0.21575  \n",
       "19             -2.07848  \n",
       "20             -0.21575  \n",
       "21             -1.18084  \n",
       "22              0.07987  \n",
       "23             -1.54858  \n",
       "24             -0.52593  \n",
       "25              0.40148  \n",
       "26             -1.54858  \n",
       "27              0.40148  \n",
       "28             -0.52593  \n",
       "29             -0.52593  \n",
       "...                 ...  \n",
       "1855            0.40148  \n",
       "1856            0.76540  \n",
       "1857            0.40148  \n",
       "1858            1.22470  \n",
       "1859            0.76540  \n",
       "1860            0.07987  \n",
       "1861            0.40148  \n",
       "1862            0.40148  \n",
       "1863            1.22470  \n",
       "1864            0.40148  \n",
       "1865            1.22470  \n",
       "1866           -0.21575  \n",
       "1867           -0.21575  \n",
       "1868            0.40148  \n",
       "1869            0.76540  \n",
       "1870            0.07987  \n",
       "1871            0.40148  \n",
       "1872            1.92173  \n",
       "1873            0.40148  \n",
       "1874            0.07987  \n",
       "1875            1.22470  \n",
       "1876            0.40148  \n",
       "1877            1.22470  \n",
       "1878           -0.21575  \n",
       "1879            0.76540  \n",
       "1880            1.92173  \n",
       "1881            0.76540  \n",
       "1882           -0.52593  \n",
       "1883            1.22470  \n",
       "1884            1.22470  \n",
       "\n",
       "[1885 rows x 11 columns]"
      ]
     },
     "execution_count": 33,
     "metadata": {},
     "output_type": "execute_result"
    }
   ],
   "source": [
    "cannabis = pd.read_csv('data/cannabis.csv')\n",
    "cannabis"
   ]
  },
  {
   "cell_type": "markdown",
   "metadata": {},
   "source": [
    "## Modeling"
   ]
  },
  {
   "cell_type": "code",
   "execution_count": 5,
   "metadata": {
    "ExecuteTime": {
     "end_time": "2019-11-06T15:27:56.647235Z",
     "start_time": "2019-11-06T15:27:56.600187Z"
    }
   },
   "outputs": [],
   "source": [
    "# define feature and target variables\n",
    "y = cannabis['User']\n",
    "X = cannabis.drop('User', axis=1)\n",
    "\n",
    "# train-test split for modeling\n",
    "X_train, X_test, y_train, y_test = train_test_split(\n",
    "    X, y, test_size=0.2, random_state=220, stratify=y)"
   ]
  },
  {
   "cell_type": "code",
   "execution_count": 6,
   "metadata": {
    "ExecuteTime": {
     "end_time": "2019-11-06T15:27:57.155867Z",
     "start_time": "2019-11-06T15:27:57.103783Z"
    },
    "scrolled": true
   },
   "outputs": [],
   "source": [
    "# scale data for Logistic Regression, KNN, and SVM\n",
    "X_train_scale = X_train.copy()\n",
    "X_test_scale = X_test.copy()\n",
    "\n",
    "scale = StandardScaler()\n",
    "\n",
    "X_train_scale.loc[:, ['Age', 'Education']] = scale.fit_transform(\n",
    "    X_train_scale.loc[:, ['Age', 'Education']])\n",
    "X_test_scale.loc[:, ['Age', 'Education']] = scale.fit_transform(\n",
    "    X_test_scale.loc[:, ['Age', 'Education']])"
   ]
  },
  {
   "cell_type": "markdown",
   "metadata": {},
   "source": [
    "### Logistic Regression"
   ]
  },
  {
   "cell_type": "code",
   "execution_count": 7,
   "metadata": {
    "ExecuteTime": {
     "end_time": "2019-11-06T15:28:01.422265Z",
     "start_time": "2019-11-06T15:27:58.612548Z"
    }
   },
   "outputs": [
    {
     "name": "stdout",
     "output_type": "stream",
     "text": [
      "Fitting 5 folds for each of 20 candidates, totalling 100 fits\n"
     ]
    },
    {
     "name": "stderr",
     "output_type": "stream",
     "text": [
      "[Parallel(n_jobs=-1)]: Using backend LokyBackend with 8 concurrent workers.\n",
      "[Parallel(n_jobs=-1)]: Done  34 tasks      | elapsed:    2.5s\n",
      "[Parallel(n_jobs=-1)]: Done 100 out of 100 | elapsed:    2.7s finished\n"
     ]
    },
    {
     "name": "stdout",
     "output_type": "stream",
     "text": [
      "\n",
      "Best params:\n",
      " {'C': 0.046415888336127774, 'penalty': 'l2'}\n",
      "Train score: 0.798\n",
      "Test score: 0.804\n"
     ]
    }
   ],
   "source": [
    "grid_log = [{'C': np.logspace(-2, 4, 10),\n",
    "             'penalty': ['l1', 'l2']}]\n",
    "\n",
    "gs_log = GridSearchCV(estimator=LogisticRegression(random_state=220),\n",
    "                      param_grid=grid_log,\n",
    "                      scoring='accuracy',\n",
    "                      cv=5, verbose=1, n_jobs=-1)\n",
    "\n",
    "gs_log.fit(X_train_scale, y_train)\n",
    "\n",
    "y_pred_log = gs_log.best_estimator_.predict(X_test_scale)\n",
    "\n",
    "print('\\nBest params:\\n', gs_log.best_params_)\n",
    "print('Train score: %.3f' % gs_log.best_score_)\n",
    "print('Test score: %.3f' % gs_log.score(X_test_scale, y_test))"
   ]
  },
  {
   "cell_type": "markdown",
   "metadata": {},
   "source": [
    "### Decision Tree"
   ]
  },
  {
   "cell_type": "code",
   "execution_count": 8,
   "metadata": {
    "ExecuteTime": {
     "end_time": "2019-11-06T15:28:02.144442Z",
     "start_time": "2019-11-06T15:28:01.425551Z"
    }
   },
   "outputs": [
    {
     "name": "stdout",
     "output_type": "stream",
     "text": [
      "Fitting 5 folds for each of 72 candidates, totalling 360 fits\n"
     ]
    },
    {
     "name": "stderr",
     "output_type": "stream",
     "text": [
      "[Parallel(n_jobs=-1)]: Using backend LokyBackend with 8 concurrent workers.\n"
     ]
    },
    {
     "name": "stdout",
     "output_type": "stream",
     "text": [
      "\n",
      "Best params:\n",
      " {'criterion': 'gini', 'max_depth': 4, 'max_features': 8, 'min_samples_leaf': 2, 'min_samples_split': 2}\n",
      "Train score: 0.773\n",
      "Test score: 0.780\n"
     ]
    },
    {
     "name": "stderr",
     "output_type": "stream",
     "text": [
      "[Parallel(n_jobs=-1)]: Done 360 out of 360 | elapsed:    0.7s finished\n"
     ]
    }
   ],
   "source": [
    "grid_tree = [{'criterion': ['gini', 'entropy'],\n",
    "              'max_depth': [3, 4, 5],\n",
    "              'min_samples_split': [2, 3],\n",
    "              'min_samples_leaf': [2, 3],\n",
    "              'max_features': [7, 8, 9]}]\n",
    "\n",
    "gs_tree = GridSearchCV(estimator=DecisionTreeClassifier(random_state=220),\n",
    "                       param_grid=grid_tree,\n",
    "                       scoring='accuracy',\n",
    "                       cv=5, verbose=1, n_jobs=-1)\n",
    "\n",
    "gs_tree.fit(X_train, y_train)\n",
    "\n",
    "y_pred = gs_tree.best_estimator_.predict(X_test)\n",
    "\n",
    "print('\\nBest params:\\n', gs_tree.best_params_)\n",
    "print('Train score: %.3f' % gs_tree.best_score_)\n",
    "print('Test score: %.3f' % gs_tree.score(X_test, y_test))"
   ]
  },
  {
   "cell_type": "code",
   "execution_count": 12,
   "metadata": {
    "ExecuteTime": {
     "end_time": "2019-11-05T15:54:23.766467Z",
     "start_time": "2019-11-05T15:54:23.544317Z"
    }
   },
   "outputs": [
    {
     "data": {
      "image/png": "[encoded data removed]",
      "text/plain": [
       "<Figure size 576x576 with 1 Axes>"
      ]
     },
     "metadata": {
      "needs_background": "light"
     },
     "output_type": "display_data"
    }
   ],
   "source": [
    "# plt.figure(figsize=(12, 7.5))\n",
    "# plot_tree(dt_mod, filled=True, feature_names=X.columns);\n",
    "\n",
    "n_features = X_train.shape[1]\n",
    "plt.figure(figsize=(8, 8))\n",
    "plt.barh(range(n_features),\n",
    "         gs_tree.best_estimator_.feature_importances_,\n",
    "         align='center')\n",
    "plt.yticks(np.arange(n_features), X_train.columns.values)\n",
    "plt.xlabel('Feature importance')\n",
    "plt.ylabel('Feature')\n",
    "plt.title('Feature importance in predicting Cannabis usage');"
   ]
  },
  {
   "cell_type": "markdown",
   "metadata": {},
   "source": [
    "### Random Forest"
   ]
  },
  {
   "cell_type": "code",
   "execution_count": 9,
   "metadata": {
    "ExecuteTime": {
     "end_time": "2019-11-06T15:28:15.922066Z",
     "start_time": "2019-11-06T15:28:02.146913Z"
    }
   },
   "outputs": [
    {
     "name": "stderr",
     "output_type": "stream",
     "text": [
      "[Parallel(n_jobs=-1)]: Using backend LokyBackend with 8 concurrent workers.\n"
     ]
    },
    {
     "name": "stdout",
     "output_type": "stream",
     "text": [
      "Fitting 5 folds for each of 96 candidates, totalling 480 fits\n"
     ]
    },
    {
     "name": "stderr",
     "output_type": "stream",
     "text": [
      "[Parallel(n_jobs=-1)]: Done  34 tasks      | elapsed:    1.0s\n",
      "[Parallel(n_jobs=-1)]: Done 184 tasks      | elapsed:    5.1s\n",
      "[Parallel(n_jobs=-1)]: Done 434 tasks      | elapsed:   12.1s\n"
     ]
    },
    {
     "name": "stdout",
     "output_type": "stream",
     "text": [
      "\n",
      "Best params:\n",
      " {'criterion': 'gini', 'max_depth': 7, 'max_features': 3, 'min_samples_leaf': 16, 'min_samples_split': 2, 'n_estimators': 100}\n",
      "Train score: 0.798\n",
      "Test score: 0.798\n"
     ]
    },
    {
     "name": "stderr",
     "output_type": "stream",
     "text": [
      "[Parallel(n_jobs=-1)]: Done 480 out of 480 | elapsed:   13.6s finished\n"
     ]
    }
   ],
   "source": [
    "grid_forest = [{'criterion': ['gini', 'entropy'],\n",
    "         'n_estimators': [90, 100],\n",
    "         'max_depth': [6, 7],\n",
    "         'min_samples_split': [2, 3],\n",
    "         'min_samples_leaf': [15, 16],\n",
    "         'max_features': [2, 3, 4]}]\n",
    "\n",
    "gs_forest = GridSearchCV(estimator=RandomForestClassifier(random_state=220),\n",
    "                          param_grid=grid_forest,\n",
    "                          scoring='accuracy',\n",
    "                          cv=5, verbose=1, n_jobs=-1)\n",
    "\n",
    "gs_forest.fit(X_train, y_train)\n",
    "\n",
    "y_pred = gs_forest.best_estimator_.predict(X_test)\n",
    "\n",
    "print('\\nBest params:\\n', gs_forest.best_params_)\n",
    "print('Train score: %.3f' % gs_forest.best_score_)\n",
    "print('Test score: %.3f' % gs_forest.score(X_test, y_test))"
   ]
  },
  {
   "cell_type": "code",
   "execution_count": 14,
   "metadata": {
    "ExecuteTime": {
     "end_time": "2019-11-05T15:54:39.602413Z",
     "start_time": "2019-11-05T15:54:39.356755Z"
    },
    "scrolled": false
   },
   "outputs": [
    {
     "data": {
      "image/png": "[encoded data removed]",
      "text/plain": [
       "<Figure size 576x576 with 1 Axes>"
      ]
     },
     "metadata": {
      "needs_background": "light"
     },
     "output_type": "display_data"
    }
   ],
   "source": [
    "n_features = X_train.shape[1]\n",
    "plt.figure(figsize=(8,8))\n",
    "plt.barh(range(n_features),\n",
    "         gs_forest.best_estimator_.feature_importances_,\n",
    "         align='center') \n",
    "plt.yticks(np.arange(n_features), X_train.columns.values) \n",
    "plt.xlabel('Feature importance')\n",
    "plt.ylabel('Feature')\n",
    "plt.title('Feature importance in predicting Cannabis usage');"
   ]
  },
  {
   "cell_type": "markdown",
   "metadata": {},
   "source": [
    "### Boosting"
   ]
  },
  {
   "cell_type": "markdown",
   "metadata": {},
   "source": [
    "#### AdaBoost"
   ]
  },
  {
   "cell_type": "code",
   "execution_count": 10,
   "metadata": {
    "ExecuteTime": {
     "end_time": "2019-11-06T15:28:28.102351Z",
     "start_time": "2019-11-06T15:28:15.924330Z"
    }
   },
   "outputs": [
    {
     "name": "stderr",
     "output_type": "stream",
     "text": [
      "[Parallel(n_jobs=-1)]: Using backend LokyBackend with 8 concurrent workers.\n"
     ]
    },
    {
     "name": "stdout",
     "output_type": "stream",
     "text": [
      "Fitting 5 folds for each of 18 candidates, totalling 90 fits\n"
     ]
    },
    {
     "name": "stderr",
     "output_type": "stream",
     "text": [
      "[Parallel(n_jobs=-1)]: Done  90 out of  90 | elapsed:   11.3s finished\n"
     ]
    },
    {
     "name": "stdout",
     "output_type": "stream",
     "text": [
      "\n",
      "Best params:\n",
      " {'base_estimator': RandomForestClassifier(bootstrap=True, class_weight=None, criterion='gini',\n",
      "                       max_depth=7, max_features=3, max_leaf_nodes=None,\n",
      "                       min_impurity_decrease=0.0, min_impurity_split=None,\n",
      "                       min_samples_leaf=16, min_samples_split=2,\n",
      "                       min_weight_fraction_leaf=0.0, n_estimators=100,\n",
      "                       n_jobs=None, oob_score=False, random_state=None,\n",
      "                       verbose=0, warm_start=False), 'learning_rate': 0.1, 'n_estimators': 5}\n",
      "Train score: 0.795\n",
      "Test score: 0.806\n"
     ]
    }
   ],
   "source": [
    "grid_ada = {'base_estimator': [DecisionTreeClassifier(criterion='gini', max_depth=4,\n",
    "                                                      max_features=8, min_samples_leaf=2,\n",
    "                                                      min_samples_split=2),\n",
    "                               RandomForestClassifier(criterion='gini', max_depth=7,\n",
    "                                                      max_features=3, min_samples_leaf=16,\n",
    "                                                      min_samples_split=2, n_estimators=100)],\n",
    "            'n_estimators': [1, 5, 10],\n",
    "            'learning_rate': [0.01, 0.1, 0.5]}\n",
    "\n",
    "gs_ada = GridSearchCV(estimator=AdaBoostClassifier(random_state=220),\n",
    "                      param_grid=grid_ada,\n",
    "                      scoring='accuracy',\n",
    "                      cv=5, verbose=1, n_jobs=-1)\n",
    "\n",
    "gs_ada.fit(X_train, y_train)\n",
    "\n",
    "y_pred = gs_ada.best_estimator_.predict(X_test)\n",
    "\n",
    "print('\\nBest params:\\n', gs_ada.best_params_)\n",
    "print('Train score: %.3f' % gs_ada.best_score_)\n",
    "print('Test score: %.3f' % gs_ada.score(X_test, y_test))"
   ]
  },
  {
   "cell_type": "code",
   "execution_count": 16,
   "metadata": {
    "ExecuteTime": {
     "end_time": "2019-11-05T15:54:53.481610Z",
     "start_time": "2019-11-05T15:54:53.188530Z"
    }
   },
   "outputs": [
    {
     "data": {
      "image/png": "[encoded data removed]",
      "text/plain": [
       "<Figure size 576x576 with 1 Axes>"
      ]
     },
     "metadata": {
      "needs_background": "light"
     },
     "output_type": "display_data"
    }
   ],
   "source": [
    "n_features = X_train.shape[1]\n",
    "plt.figure(figsize=(8,8))\n",
    "plt.barh(range(n_features),\n",
    "         gs_ada.best_estimator_.feature_importances_,\n",
    "         align='center') \n",
    "plt.yticks(np.arange(n_features), X_train.columns.values) \n",
    "plt.xlabel('Feature importance')\n",
    "plt.ylabel('Feature')\n",
    "plt.title('Feature importance in predicting Cannabis usage');"
   ]
  },
  {
   "cell_type": "markdown",
   "metadata": {},
   "source": [
    "#### Gradient Boost"
   ]
  },
  {
   "cell_type": "code",
   "execution_count": 11,
   "metadata": {
    "ExecuteTime": {
     "end_time": "2019-11-06T15:28:35.031729Z",
     "start_time": "2019-11-06T15:28:28.105136Z"
    }
   },
   "outputs": [
    {
     "name": "stdout",
     "output_type": "stream",
     "text": [
      "Fitting 5 folds for each of 81 candidates, totalling 405 fits\n"
     ]
    },
    {
     "name": "stderr",
     "output_type": "stream",
     "text": [
      "[Parallel(n_jobs=-1)]: Using backend LokyBackend with 8 concurrent workers.\n",
      "[Parallel(n_jobs=-1)]: Done  34 tasks      | elapsed:    0.8s\n",
      "[Parallel(n_jobs=-1)]: Done 184 tasks      | elapsed:    3.3s\n"
     ]
    },
    {
     "name": "stdout",
     "output_type": "stream",
     "text": [
      "\n",
      "Best params:\n",
      " {'learning_rate': 0.05, 'max_depth': 6, 'max_features': 0.3, 'min_samples_leaf': 150}\n",
      "Train score: 0.798\n",
      "Test score: 0.796\n"
     ]
    },
    {
     "name": "stderr",
     "output_type": "stream",
     "text": [
      "[Parallel(n_jobs=-1)]: Done 405 out of 405 | elapsed:    6.8s finished\n"
     ]
    }
   ],
   "source": [
    "grid_gb = {'learning_rate': [0.1, 0.05, 0.01],\n",
    "           'max_depth': [5, 6, 7],\n",
    "           'min_samples_leaf': [100, 150, 200],\n",
    "           'max_features': [1.0, 0.3, 0.1]}\n",
    "\n",
    "gs_gb = GridSearchCV(estimator=GradientBoostingClassifier(random_state=220),\n",
    "                     param_grid=grid_gb,\n",
    "                     scoring='accuracy',\n",
    "                     cv=5, verbose=1, n_jobs=-1)\n",
    "\n",
    "gs_gb.fit(X_train, y_train)\n",
    "\n",
    "y_pred = gs_gb.best_estimator_.predict(X_test)\n",
    "\n",
    "print('\\nBest params:\\n', gs_gb.best_params_)\n",
    "print('Train score: %.3f' % gs_gb.best_score_)\n",
    "print('Test score: %.3f' % gs_gb.score(X_test, y_test))"
   ]
  },
  {
   "cell_type": "code",
   "execution_count": 18,
   "metadata": {
    "ExecuteTime": {
     "end_time": "2019-11-05T15:55:01.835367Z",
     "start_time": "2019-11-05T15:55:01.589766Z"
    }
   },
   "outputs": [
    {
     "data": {
      "image/png": "[encoded data removed]",
      "text/plain": [
       "<Figure size 576x576 with 1 Axes>"
      ]
     },
     "metadata": {
      "needs_background": "light"
     },
     "output_type": "display_data"
    }
   ],
   "source": [
    "n_features = X_train.shape[1]\n",
    "plt.figure(figsize=(8,8))\n",
    "plt.barh(range(n_features),\n",
    "         gs_gb.best_estimator_.feature_importances_,\n",
    "         align='center') \n",
    "plt.yticks(np.arange(n_features), X_train.columns.values) \n",
    "plt.xlabel('Feature importance')\n",
    "plt.ylabel('Feature')\n",
    "plt.title('Feature importance in predicting Cannabis usage')"
   ]
  },
  {
   "cell_type": "markdown",
   "metadata": {},
   "source": [
    "#### XGBoost"
   ]
  },
  {
   "cell_type": "code",
   "execution_count": 12,
   "metadata": {
    "ExecuteTime": {
     "end_time": "2019-11-06T15:29:09.279146Z",
     "start_time": "2019-11-06T15:28:35.034598Z"
    }
   },
   "outputs": [
    {
     "name": "stderr",
     "output_type": "stream",
     "text": [
      "[Parallel(n_jobs=-1)]: Using backend LokyBackend with 8 concurrent workers.\n"
     ]
    },
    {
     "name": "stdout",
     "output_type": "stream",
     "text": [
      "Fitting 5 folds for each of 243 candidates, totalling 1215 fits\n"
     ]
    },
    {
     "name": "stderr",
     "output_type": "stream",
     "text": [
      "[Parallel(n_jobs=-1)]: Done  52 tasks      | elapsed:    1.5s\n",
      "[Parallel(n_jobs=-1)]: Done 352 tasks      | elapsed:    9.9s\n",
      "[Parallel(n_jobs=-1)]: Done 852 tasks      | elapsed:   23.9s\n",
      "[Parallel(n_jobs=-1)]: Done 1200 out of 1215 | elapsed:   33.6s remaining:    0.4s\n",
      "[Parallel(n_jobs=-1)]: Done 1215 out of 1215 | elapsed:   34.0s finished\n"
     ]
    },
    {
     "name": "stdout",
     "output_type": "stream",
     "text": [
      "\n",
      "Best params:\n",
      " {'learning_rate': 0.05, 'max_depth': 3, 'min_child_weight': 16, 'n_estimators': 150, 'subsample': 1}\n",
      "Train score: 0.798\n",
      "Test score: 0.809\n"
     ]
    }
   ],
   "source": [
    "grid_boost = {\"learning_rate\": [0.01, 0.05, 0.1],\n",
    "              'max_depth': [2, 3, 4],\n",
    "              'min_child_weight': [15, 16, 17],\n",
    "              'subsample': [0.2, 0.7, 1],\n",
    "              'n_estimators': [140, 150, 160]}\n",
    "\n",
    "gs_boost = GridSearchCV(estimator=xgb.XGBClassifier(random_state=220),\n",
    "                         param_grid=grid_boost,\n",
    "                         scoring='accuracy',\n",
    "                         cv=5, verbose=1, n_jobs=-1)\n",
    "\n",
    "gs_boost.fit(X_train, y_train)\n",
    "\n",
    "y_pred = gs_boost.best_estimator_.predict(X_test)\n",
    "\n",
    "print('\\nBest params:\\n', gs_boost.best_params_)\n",
    "print('Train score: %.3f' % gs_boost.best_score_)\n",
    "print('Test score: %.3f' % gs_boost.score(X_test, y_test))"
   ]
  },
  {
   "cell_type": "code",
   "execution_count": 7,
   "metadata": {
    "ExecuteTime": {
     "end_time": "2019-11-05T19:29:28.060483Z",
     "start_time": "2019-11-05T19:29:27.652811Z"
    },
    "scrolled": false
   },
   "outputs": [
    {
     "data": {
      "image/png": "[encoded data removed]",
      "text/plain": [
       "<Figure size 576x576 with 1 Axes>"
      ]
     },
     "metadata": {
      "needs_background": "light"
     },
     "output_type": "display_data"
    }
   ],
   "source": [
    "n_features = X_train.shape[1]\n",
    "plt.figure(figsize=(8,8))\n",
    "plt.barh(range(n_features),\n",
    "         gs_boost.best_estimator_.feature_importances_,\n",
    "         align='center') \n",
    "plt.yticks(np.arange(n_features), X_train.columns.values, fontsize=14) \n",
    "plt.xlabel('Feature importance', fontsize=14)\n",
    "plt.ylabel('Feature', fontsize=14)\n",
    "plt.title('Feature importance in predicting Cannabis usage', fontsize=14)\n",
    "sns.despine(left=False, bottom=False)\n",
    "plt.xticks(fontsize=14)\n",
    "plt.savefig('img/Cannabis_feat_imp.png', bbox_inches='tight');"
   ]
  },
  {
   "cell_type": "markdown",
   "metadata": {},
   "source": [
    "### KNN"
   ]
  },
  {
   "cell_type": "code",
   "execution_count": 13,
   "metadata": {
    "ExecuteTime": {
     "end_time": "2019-11-06T15:29:09.506449Z",
     "start_time": "2019-11-06T15:29:09.281628Z"
    },
    "scrolled": true
   },
   "outputs": [
    {
     "name": "stdout",
     "output_type": "stream",
     "text": [
      "Fitting 5 folds for each of 3 candidates, totalling 15 fits\n",
      "\n",
      "Best params:\n",
      " {'n_neighbors': 27}\n",
      "Train score: 0.786\n",
      "Test score: 0.790\n"
     ]
    },
    {
     "name": "stderr",
     "output_type": "stream",
     "text": [
      "[Parallel(n_jobs=-1)]: Using backend LokyBackend with 8 concurrent workers.\n",
      "[Parallel(n_jobs=-1)]: Done  15 out of  15 | elapsed:    0.1s finished\n"
     ]
    }
   ],
   "source": [
    "grid_knn = {'n_neighbors': [26, 27, 28]}\n",
    "\n",
    "gs_knn = GridSearchCV(estimator=KNeighborsClassifier(),\n",
    "                      param_grid=grid_knn,\n",
    "                      scoring='accuracy',\n",
    "                      cv=5, verbose=1, n_jobs=-1)\n",
    "\n",
    "gs_knn.fit(X_train_scale, y_train)\n",
    "\n",
    "y_pred = gs_knn.best_estimator_.predict(X_test_scale)\n",
    "\n",
    "print('\\nBest params:\\n', gs_knn.best_params_)\n",
    "print('Train score: %.3f' % gs_knn.best_score_)\n",
    "print('Test score: %.3f' % gs_knn.score(X_test_scale, y_test))"
   ]
  },
  {
   "cell_type": "markdown",
   "metadata": {},
   "source": [
    "### SVM"
   ]
  },
  {
   "cell_type": "code",
   "execution_count": 14,
   "metadata": {
    "ExecuteTime": {
     "end_time": "2019-11-06T15:29:15.954573Z",
     "start_time": "2019-11-06T15:29:09.509843Z"
    }
   },
   "outputs": [
    {
     "name": "stdout",
     "output_type": "stream",
     "text": [
      "Fitting 5 folds for each of 27 candidates, totalling 135 fits\n"
     ]
    },
    {
     "name": "stderr",
     "output_type": "stream",
     "text": [
      "[Parallel(n_jobs=-1)]: Using backend LokyBackend with 8 concurrent workers.\n",
      "[Parallel(n_jobs=-1)]: Done  52 tasks      | elapsed:    1.7s\n",
      "[Parallel(n_jobs=-1)]: Done 120 out of 135 | elapsed:    5.5s remaining:    0.7s\n"
     ]
    },
    {
     "name": "stdout",
     "output_type": "stream",
     "text": [
      "\n",
      "Best params:\n",
      " {'C': 1, 'degree': 2, 'kernel': 'linear'}\n",
      "Train score: 0.794\n",
      "Test score: 0.801\n"
     ]
    },
    {
     "name": "stderr",
     "output_type": "stream",
     "text": [
      "[Parallel(n_jobs=-1)]: Done 135 out of 135 | elapsed:    6.2s finished\n"
     ]
    }
   ],
   "source": [
    "grid_svm = {'C': [0.1, 1, 10],\n",
    "            'kernel': ['linear', 'rbf', 'poly'],\n",
    "            'degree': [2, 3, 4]}\n",
    "\n",
    "gs_svm = GridSearchCV(estimator=SVC(probability=True, random_state=220),\n",
    "                      param_grid=grid_svm,\n",
    "                      scoring='accuracy',\n",
    "                      cv=5, verbose=1, n_jobs=-1)\n",
    "\n",
    "gs_svm.fit(X_train_scale, y_train)\n",
    "\n",
    "y_pred = gs_svm.best_estimator_.predict(X_test_scale)\n",
    "\n",
    "print('\\nBest params:\\n', gs_svm.best_params_)\n",
    "print('Train score: %.3f' % gs_svm.best_score_)\n",
    "print('Test score: %.3f' % gs_svm.score(X_test_scale, y_test))"
   ]
  },
  {
   "cell_type": "markdown",
   "metadata": {},
   "source": [
    "## Findings"
   ]
  },
  {
   "cell_type": "markdown",
   "metadata": {},
   "source": [
    "### ROC Curve\n",
    "\n",
    "We used Receiver Operating Characteristic (ROC) curves and the Area Under the Curve (AUC) scores to compare which classification method performed the best. The ROC curve shows the ratio of True Positive and False Positive rates. The perfect model (red dotted line) would show an AUC of 1 and a ROC curve that looks like an upside-down 'L', because the perfect model would show 100% True Positives. The black dotted line shows the ROC curve of a random guess."
   ]
  },
  {
   "cell_type": "code",
   "execution_count": 29,
   "metadata": {
    "ExecuteTime": {
     "end_time": "2019-11-06T15:02:19.081837Z",
     "start_time": "2019-11-06T15:02:18.580746Z"
    }
   },
   "outputs": [
    {
     "data": {
      "image/png": "[encoded data removed]",
      "text/plain": [
       "<Figure size 720x576 with 1 Axes>"
      ]
     },
     "metadata": {
      "needs_background": "light"
     },
     "output_type": "display_data"
    }
   ],
   "source": [
    "models = [gs_ada, gs_boost, gs_forest, gs_gb, gs_log, gs_tree, gs_knn, gs_svm]\n",
    "\n",
    "model_names = ['AdaBoost', 'XGBoost', 'RandomForest',\n",
    "               'Gradient Boosting', 'Logistic Regression',\n",
    "               'DecisionTree', 'KNN', 'SVM']\n",
    "\n",
    "plt.figure(figsize=(10, 8))\n",
    "for idx, model in enumerate(models):\n",
    "    if (model == gs_log) | (model == gs_knn) | (model == gs_svm):\n",
    "        auc_score = roc_auc_score(\n",
    "            y_test, model.best_estimator_.predict_proba(X_test_scale)[:, 1])\n",
    "        fpr, tpr, thresholds = roc_curve(\n",
    "            y_test, model.best_estimator_.predict_proba(X_test_scale)[:, 1])\n",
    "    else:\n",
    "        auc_score = roc_auc_score(\n",
    "            y_test, model.best_estimator_.predict_proba(X_test)[:, 1])\n",
    "        fpr, tpr, thresholds = roc_curve(\n",
    "            y_test, model.best_estimator_.predict_proba(X_test)[:, 1])\n",
    "    # fpr = false positive, #tpr = true positive\n",
    "    plt.plot(fpr, tpr,\n",
    "             label=f'{model_names[idx]} (auc = %0.2f)' % auc_score,\n",
    "             lw=2)\n",
    "plt.plot([0, 1], [0, 1], 'k--')\n",
    "plt.plot([0, 0, 1], [0, 1, 1], 'k--', color='red')\n",
    "plt.xlabel('False Positive Rate', fontsize=18)\n",
    "plt.ylabel('True Positive Rate', fontsize=18)\n",
    "plt.title('ROC Curves for Cannabis Consumption', fontsize=20)\n",
    "plt.xlim(-0.005, 1.005)\n",
    "plt.ylim(-0.005, 1.005)\n",
    "plt.legend(loc='best', fontsize=12, frameon=False);"
   ]
  },
  {
   "cell_type": "markdown",
   "metadata": {},
   "source": [
    "The AUC scores of all of the models, except for DecisionTree, were very similar as you can see in the legend. DecisionTree performed the worst out of the eight models above. Because the above graph does not clearly show the differences in models, I created another graph below to show just three graphs (best, middle, and worst performing models)."
   ]
  },
  {
   "cell_type": "code",
   "execution_count": 28,
   "metadata": {
    "ExecuteTime": {
     "end_time": "2019-11-06T14:56:47.040794Z",
     "start_time": "2019-11-06T14:56:46.604481Z"
    }
   },
   "outputs": [
    {
     "data": {
      "image/png": "[encoded data removed]",
      "text/plain": [
       "<Figure size 720x576 with 1 Axes>"
      ]
     },
     "metadata": {
      "needs_background": "light"
     },
     "output_type": "display_data"
    }
   ],
   "source": [
    "names=['DecisionTree', 'KNN', 'SVM']\n",
    "\n",
    "plt.figure(figsize=(10, 8))\n",
    "for idx, model in enumerate([gs_tree, gs_knn, gs_svm]):\n",
    "    if (model == gs_svm) | (model == gs_knn):\n",
    "        auc_score = roc_auc_score(y_test, model.best_estimator_.predict_proba(X_test_scale)[:, 1])\n",
    "        fpr, tpr, thresholds = roc_curve(y_test, model.best_estimator_.predict_proba(X_test_scale)[:, 1])\n",
    "    else:\n",
    "        auc_score = roc_auc_score(y_test, model.best_estimator_.predict_proba(X_test)[:, 1])\n",
    "        fpr, tpr, thresholds = roc_curve(y_test, model.best_estimator_.predict_proba(X_test)[:, 1])\n",
    "    # fpr = false positive, #tpr = true positive\n",
    "    plt.plot(fpr, tpr,\n",
    "             label=f'{names[idx]} (auc = %0.2f)' % auc_score,\n",
    "             lw=2)\n",
    "plt.plot([0, 1], [0, 1], 'k--')\n",
    "plt.plot([0, 0, 1], [0, 1, 1], 'k--', color='red')\n",
    "plt.xlabel('False Positive Rate', fontsize=18)\n",
    "plt.ylabel('True Positive Rate', fontsize=18)\n",
    "plt.title('ROC Curves for Cannabis Consumption', fontsize=20)\n",
    "plt.xlim(-0.005, 1.005)\n",
    "plt.ylim(-0.005, 1.005)\n",
    "plt.legend(loc='best', fontsize=12, frameon=False)\n",
    "plt.savefig('img/cannabis_roc.png', bbox_inches='tight');"
   ]
  },
  {
   "cell_type": "markdown",
   "metadata": {},
   "source": [
    "### Interpreting SVM Results\n",
    "\n",
    "I chose to focus on the SVM model to analyze the accuracy of predictions and which features are most important in predicting Cannabis users."
   ]
  },
  {
   "cell_type": "markdown",
   "metadata": {},
   "source": [
    "#### Confusion Matrix\n",
    "\n",
    "The confusion matrix below shows the percent accuracy of predictions. The SVM model was 80% accurate in predicting whether a person was a user (60%) or a nonuser (20%)."
   ]
  },
  {
   "cell_type": "code",
   "execution_count": 15,
   "metadata": {
    "ExecuteTime": {
     "end_time": "2019-11-06T14:35:06.439086Z",
     "start_time": "2019-11-06T14:35:06.212880Z"
    },
    "scrolled": false
   },
   "outputs": [
    {
     "data": {
      "image/png": "[encoded data removed]",
      "text/plain": [
       "<Figure size 576x360 with 1 Axes>"
      ]
     },
     "metadata": {
      "needs_background": "light"
     },
     "output_type": "display_data"
    }
   ],
   "source": [
    "# creating the confusion matrix\n",
    "matrix = confusion_matrix(y_test, gs_svm.best_estimator_.predict(X_test_scale))\n",
    "# converting the matrix to show percentages instead of number of observations\n",
    "matrix = matrix / matrix.astype(np.float).sum()\n",
    "\n",
    "# converting the matrix into a DataFrame format\n",
    "df_matrix = pd.DataFrame(matrix,\n",
    "                         columns=['predicted non-user', 'predicted user'],\n",
    "                         index=['actual non-user', 'actual user'])\n",
    "\n",
    "# using Seaborn heatmap to create a visual of the matrix\n",
    "plt.figure(figsize=(8, 5))\n",
    "col = sns.color_palette(\"PuBu\", 10)\n",
    "# sns.set(font_scale=1.4)  # for label size\n",
    "sns.heatmap(df_matrix, annot=True, annot_kws={\"size\": 40},\n",
    "            fmt='.0%', cmap=col, cbar=False)\n",
    "plt.title('Confusion Matrix for Cannabis\\n', fontsize=20)\n",
    "plt.yticks(rotation=0, fontsize=20)\n",
    "plt.xticks(fontsize=20)\n",
    "plt.savefig('img/cannabis_matrix.png', bbox_inches='tight');"
   ]
  },
  {
   "cell_type": "markdown",
   "metadata": {},
   "source": [
    "#### Important Features in Predicting Cannabis Users"
   ]
  },
  {
   "cell_type": "code",
   "execution_count": 30,
   "metadata": {
    "ExecuteTime": {
     "end_time": "2019-11-06T15:50:55.368739Z",
     "start_time": "2019-11-06T15:50:55.316463Z"
    }
   },
   "outputs": [
    {
     "data": {
      "text/html": [
       "<div>\n",
       "<style scoped>\n",
       "    .dataframe tbody tr th:only-of-type {\n",
       "        vertical-align: middle;\n",
       "    }\n",
       "\n",
       "    .dataframe tbody tr th {\n",
       "        vertical-align: top;\n",
       "    }\n",
       "\n",
       "    .dataframe thead th {\n",
       "        text-align: right;\n",
       "    }\n",
       "</style>\n",
       "<table border=\"1\" class=\"dataframe\">\n",
       "  <thead>\n",
       "    <tr style=\"text-align: right;\">\n",
       "      <th></th>\n",
       "      <th>Feature</th>\n",
       "      <th>Coefficient</th>\n",
       "      <th>Absolute Coefficient</th>\n",
       "    </tr>\n",
       "  </thead>\n",
       "  <tbody>\n",
       "    <tr>\n",
       "      <th>3</th>\n",
       "      <td>Neuroticism</td>\n",
       "      <td>-0.051143</td>\n",
       "      <td>0.051143</td>\n",
       "    </tr>\n",
       "    <tr>\n",
       "      <th>8</th>\n",
       "      <td>Impusivity</td>\n",
       "      <td>0.094325</td>\n",
       "      <td>0.094325</td>\n",
       "    </tr>\n",
       "    <tr>\n",
       "      <th>6</th>\n",
       "      <td>Agreeableness</td>\n",
       "      <td>-0.152879</td>\n",
       "      <td>0.152879</td>\n",
       "    </tr>\n",
       "    <tr>\n",
       "      <th>2</th>\n",
       "      <td>Education</td>\n",
       "      <td>-0.209648</td>\n",
       "      <td>0.209648</td>\n",
       "    </tr>\n",
       "    <tr>\n",
       "      <th>7</th>\n",
       "      <td>Conscientiousness</td>\n",
       "      <td>-0.273652</td>\n",
       "      <td>0.273652</td>\n",
       "    </tr>\n",
       "    <tr>\n",
       "      <th>1</th>\n",
       "      <td>Gender</td>\n",
       "      <td>0.299464</td>\n",
       "      <td>0.299464</td>\n",
       "    </tr>\n",
       "    <tr>\n",
       "      <th>4</th>\n",
       "      <td>Extraversion</td>\n",
       "      <td>-0.316661</td>\n",
       "      <td>0.316661</td>\n",
       "    </tr>\n",
       "    <tr>\n",
       "      <th>9</th>\n",
       "      <td>Sensation-seeking</td>\n",
       "      <td>0.396660</td>\n",
       "      <td>0.396660</td>\n",
       "    </tr>\n",
       "    <tr>\n",
       "      <th>5</th>\n",
       "      <td>Openness to experience</td>\n",
       "      <td>0.620656</td>\n",
       "      <td>0.620656</td>\n",
       "    </tr>\n",
       "    <tr>\n",
       "      <th>0</th>\n",
       "      <td>Age</td>\n",
       "      <td>-0.632500</td>\n",
       "      <td>0.632500</td>\n",
       "    </tr>\n",
       "  </tbody>\n",
       "</table>\n",
       "</div>"
      ],
      "text/plain": [
       "                  Feature  Coefficient  Absolute Coefficient\n",
       "3             Neuroticism    -0.051143              0.051143\n",
       "8              Impusivity     0.094325              0.094325\n",
       "6           Agreeableness    -0.152879              0.152879\n",
       "2               Education    -0.209648              0.209648\n",
       "7       Conscientiousness    -0.273652              0.273652\n",
       "1                  Gender     0.299464              0.299464\n",
       "4            Extraversion    -0.316661              0.316661\n",
       "9       Sensation-seeking     0.396660              0.396660\n",
       "5  Openness to experience     0.620656              0.620656\n",
       "0                     Age    -0.632500              0.632500"
      ]
     },
     "execution_count": 30,
     "metadata": {},
     "output_type": "execute_result"
    }
   ],
   "source": [
    "# create a DataFrame of the features and coefficients \n",
    "svm_feat_imp = pd.DataFrame(zip(X_train.columns,\n",
    "                                gs_svm.best_estimator_.coef_[0],\n",
    "                                np.abs(gs_svm.best_estimator_.coef_[0])),\n",
    "                            columns=['Feature', 'Coefficient', 'Absolute Coefficient'])\n",
    "\n",
    "# sort values by the absolute coefficient\n",
    "svm_feat_imp.sort_values(by=['Absolute Coefficient'],\n",
    "                         ascending=True, inplace=True)\n",
    "\n",
    "svm_feat_imp"
   ]
  },
  {
   "cell_type": "code",
   "execution_count": 32,
   "metadata": {
    "ExecuteTime": {
     "end_time": "2019-11-06T15:51:27.930607Z",
     "start_time": "2019-11-06T15:51:27.499625Z"
    },
    "scrolled": false
   },
   "outputs": [
    {
     "data": {
      "image/png": "[encoded data removed]",
      "text/plain": [
       "<Figure size 576x576 with 1 Axes>"
      ]
     },
     "metadata": {
      "needs_background": "light"
     },
     "output_type": "display_data"
    }
   ],
   "source": [
    "# plot the feature importance\n",
    "plt.figure(figsize=(8, 8))\n",
    "plt.barh(svm_feat_imp['Feature'],\n",
    "         svm_feat_imp['Absolute Coefficient'],\n",
    "         align='center')\n",
    "coefs = svm_feat_imp['Coefficient'].apply(lambda x: round(x, 2))\n",
    "plt.xticks(fontsize=14)\n",
    "plt.yticks(fontsize=18)\n",
    "plt.xlabel('Feature importance', fontsize=18)\n",
    "plt.ylabel('Feature', fontsize=18)\n",
    "plt.title('Predicting Cannabis usage\\n', fontsize=18)\n",
    "sns.despine(left=False, bottom=False)\n",
    "for i, v in enumerate(coefs):\n",
    "    plt.text(np.abs(v) + 0.007, i - 0.1, str(np.abs(v)), color='black', fontsize=18)\n",
    "    if v > 0:\n",
    "        plt.text(v - 0.04, i - 0.1, '+', color='black', fontsize=18, fontweight='bold')\n",
    "    else:\n",
    "        plt.text(np.abs(v) - 0.03, i - 0.1, '-', color='black', fontsize=18, fontweight='bold')\n",
    "plt.savefig('img/cannabis_feat_imp2.png', bbox_inches='tight')"
   ]
  },
  {
   "cell_type": "markdown",
   "metadata": {},
   "source": [
    "## Conclusion\n",
    "\n",
    "Based on the 8 classification models, their demographics (age, gender, and education level) and their personalities had accuracy levels of 79-81% in predicting Cannabis users. Age and openness to experience were the 2 most influential in predicting Cannabis consumption. The lower the age, the more likely a person would use Cannabis. The more open a person is to experience, the more likely he/she would use Cannabis."
   ]
  }
 ],
 "metadata": {
  "kernelspec": {
   "display_name": "Python 3",
   "language": "python",
   "name": "python3"
  },
  "language_info": {
   "codemirror_mode": {
    "name": "ipython",
    "version": 3
   },
   "file_extension": ".py",
   "mimetype": "text/x-python",
   "name": "python",
   "nbconvert_exporter": "python",
   "pygments_lexer": "ipython3",
   "version": "3.7.3"
  },
  "toc": {
   "base_numbering": 1,
   "nav_menu": {},
   "number_sections": true,
   "sideBar": true,
   "skip_h1_title": false,
   "title_cell": "Table of Contents",
   "title_sidebar": "Contents",
   "toc_cell": false,
   "toc_position": {},
   "toc_section_display": true,
   "toc_window_display": false
  }
 },
 "nbformat": 4,
 "nbformat_minor": 2
}
