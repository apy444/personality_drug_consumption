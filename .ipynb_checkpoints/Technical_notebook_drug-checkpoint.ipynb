{
 "cells": [
  {
   "cell_type": "markdown",
   "metadata": {},
   "source": [
    "# Technical notebook - Ecstasy usage prediction"
   ]
  },
  {
   "cell_type": "markdown",
   "metadata": {},
   "source": [
    "**What is Ecstasy?**\n",
    "https://adf.org.au/drug-facts/mdma/\n",
    "\n",
    "Ecstasy is the common name of MDMA. However, some pills sold as ecstasy may only have a small amount of MDMA or none at all. Other drugs and ‘fillers’ are often used instead. This makes it hard to know what reactions to expect after taking MDMA or if negative side effects will be experienced.\n",
    "\n",
    "Methylenedioxymethamphetamine (MDMA) is an an empathogen, which means it increases an individual’s feeling of empathy and compassion towards others.\n",
    "\n",
    "**Other names**\n",
    "Ecstasy, Eckies, E, XTC, pills, pingers, bikkies, flippers, molly.1\n",
    "\n",
    "**How is MDMA used?**\n",
    "MDMA usually comes in a tablet form and is swallowed. The pills come in different colours and sizes and are often imprinted with a picture or symbol.1 It can also come as capsules, powder or crystal.\n",
    "\n",
    "**Effects of MDMA**\n",
    "\n",
    "- euphoria\n",
    "- feeling energetic and confident\n",
    "- large pupils\n",
    "- jaw clenching and teeth grinding\n",
    "- heightened senses (sight, hearing and touch)\n",
    "- excessive sweating and skin tingles\n",
    "- muscle aches and pains\n",
    "- reduced appetite\n",
    "- fast heartbeat\n",
    "- increased blood pressure\n",
    "- dehydration\n",
    "- heat stroke\n",
    "- drinking extreme amounts of water (can cause death)\n",
    "\n",
    "**Long term effects**\n",
    "\n",
    "- colds or flu\n",
    "- depression\n",
    "- needing to use more to get the same effect\n",
    "- dependence on MDMA\n",
    "- memory and concentration problems\n",
    "- financial, work and social problems\n",
    "\n",
    "**Withdrawal**\n",
    "Giving up MDMA after using it for a long time is challenging because the body has to get used to functioning without it. Withdrawal symptoms should settle down after a week and will mostly disappear after a month. "
   ]
  },
  {
   "cell_type": "markdown",
   "metadata": {},
   "source": [
    "## Research question: is it possible to predict from demographic and personality features that somebody becomes an ecstasy user?"
   ]
  },
  {
   "cell_type": "markdown",
   "metadata": {},
   "source": [
    "### Importing the necessary libraries"
   ]
  },
  {
   "cell_type": "code",
   "execution_count": 1,
   "metadata": {},
   "outputs": [],
   "source": [
    "import pandas as pd\n",
    "import numpy as np\n",
    "import matplotlib.pyplot as plt\n",
    "import seaborn as sns\n",
    "\n",
    "from sklearn.preprocessing import StandardScaler\n",
    "from sklearn.model_selection import train_test_split\n",
    "from sklearn.model_selection import GridSearchCV\n",
    "\n",
    "from sklearn.linear_model import LogisticRegression\n",
    "from sklearn.tree import DecisionTreeClassifier\n",
    "from sklearn.ensemble import RandomForestClassifier\n",
    "from sklearn.ensemble import GradientBoostingClassifier\n",
    "import xgboost as xgb\n",
    "from sklearn.neighbors import KNeighborsClassifier\n",
    "from sklearn import svm\n",
    "\n",
    "from sklearn.metrics import confusion_matrix\n",
    "from sklearn.metrics import accuracy_score\n",
    "from sklearn.metrics import roc_curve, roc_auc_score\n",
    "\n",
    "import warnings\n",
    "warnings.filterwarnings(\"ignore\")\n",
    "\n",
    "#plotting the decision trees\n",
    "from sklearn import tree"
   ]
  },
  {
   "cell_type": "markdown",
   "metadata": {},
   "source": [
    "## 1. Preprocessing"
   ]
  },
  {
   "cell_type": "markdown",
   "metadata": {},
   "source": [
    "### Upload the datafile"
   ]
  },
  {
   "cell_type": "code",
   "execution_count": 2,
   "metadata": {},
   "outputs": [],
   "source": [
    "data = pd.read_csv('ecstasy.csv', index_col=0)"
   ]
  },
  {
   "cell_type": "code",
   "execution_count": 99,
   "metadata": {},
   "outputs": [],
   "source": [
    "# data.head()"
   ]
  },
  {
   "cell_type": "code",
   "execution_count": 100,
   "metadata": {},
   "outputs": [],
   "source": [
    "# data.columns"
   ]
  },
  {
   "cell_type": "markdown",
   "metadata": {},
   "source": [
    "### Feature and target variables"
   ]
  },
  {
   "cell_type": "code",
   "execution_count": 6,
   "metadata": {},
   "outputs": [],
   "source": [
    "y = data.User\n",
    "X = data.drop(['User'], axis=1)"
   ]
  },
  {
   "cell_type": "code",
   "execution_count": 7,
   "metadata": {},
   "outputs": [
    {
     "data": {
      "text/plain": [
       "Index(['Age', 'Gender', 'Education', 'Neuroticism', 'Extraversion', 'Openness',\n",
       "       'Agreeableness', 'Conscientiousness', 'Impulsiveness',\n",
       "       'Sensation-seeking'],\n",
       "      dtype='object')"
      ]
     },
     "execution_count": 7,
     "metadata": {},
     "output_type": "execute_result"
    }
   ],
   "source": [
    "X.columns"
   ]
  },
  {
   "cell_type": "markdown",
   "metadata": {},
   "source": [
    "### Train test split"
   ]
  },
  {
   "cell_type": "code",
   "execution_count": 8,
   "metadata": {},
   "outputs": [],
   "source": [
    "X_train, X_test, y_train, y_test = train_test_split(X, y, test_size=0.2, random_state=220, stratify=y)"
   ]
  },
  {
   "cell_type": "code",
   "execution_count": 9,
   "metadata": {},
   "outputs": [
    {
     "data": {
      "text/plain": [
       "0.39854111405835546"
      ]
     },
     "execution_count": 9,
     "metadata": {},
     "output_type": "execute_result"
    }
   ],
   "source": [
    "y_train.mean()"
   ]
  },
  {
   "cell_type": "markdown",
   "metadata": {},
   "source": [
    "### Scaling"
   ]
  },
  {
   "cell_type": "code",
   "execution_count": 10,
   "metadata": {},
   "outputs": [],
   "source": [
    "scaler = StandardScaler()\n",
    "X_train_scaled = X_train\n",
    "scaler.fit(X_train_scaled[['Age', 'Education']])\n",
    "X_train_scaled[['Age', 'Education']] = scaler.transform(X_train_scaled[['Age', 'Education']])"
   ]
  },
  {
   "cell_type": "code",
   "execution_count": 11,
   "metadata": {},
   "outputs": [
    {
     "data": {
      "text/html": [
       "<div>\n",
       "<style scoped>\n",
       "    .dataframe tbody tr th:only-of-type {\n",
       "        vertical-align: middle;\n",
       "    }\n",
       "\n",
       "    .dataframe tbody tr th {\n",
       "        vertical-align: top;\n",
       "    }\n",
       "\n",
       "    .dataframe thead th {\n",
       "        text-align: right;\n",
       "    }\n",
       "</style>\n",
       "<table border=\"1\" class=\"dataframe\">\n",
       "  <thead>\n",
       "    <tr style=\"text-align: right;\">\n",
       "      <th></th>\n",
       "      <th>Age</th>\n",
       "      <th>Gender</th>\n",
       "      <th>Education</th>\n",
       "      <th>Neuroticism</th>\n",
       "      <th>Extraversion</th>\n",
       "      <th>Openness</th>\n",
       "      <th>Agreeableness</th>\n",
       "      <th>Conscientiousness</th>\n",
       "      <th>Impulsiveness</th>\n",
       "      <th>Sensation-seeking</th>\n",
       "    </tr>\n",
       "  </thead>\n",
       "  <tbody>\n",
       "    <tr>\n",
       "      <th>116</th>\n",
       "      <td>0.499858</td>\n",
       "      <td>1</td>\n",
       "      <td>0.009691</td>\n",
       "      <td>0.62967</td>\n",
       "      <td>-0.57545</td>\n",
       "      <td>0.14143</td>\n",
       "      <td>-1.77200</td>\n",
       "      <td>-0.40581</td>\n",
       "      <td>0.52975</td>\n",
       "      <td>-0.21575</td>\n",
       "    </tr>\n",
       "    <tr>\n",
       "      <th>965</th>\n",
       "      <td>-1.051141</td>\n",
       "      <td>0</td>\n",
       "      <td>-0.552366</td>\n",
       "      <td>-0.24649</td>\n",
       "      <td>0.16767</td>\n",
       "      <td>1.88511</td>\n",
       "      <td>1.45039</td>\n",
       "      <td>-0.40581</td>\n",
       "      <td>1.29221</td>\n",
       "      <td>1.22470</td>\n",
       "    </tr>\n",
       "  </tbody>\n",
       "</table>\n",
       "</div>"
      ],
      "text/plain": [
       "          Age  Gender  Education  Neuroticism  Extraversion  Openness  \\\n",
       "116  0.499858       1   0.009691      0.62967      -0.57545   0.14143   \n",
       "965 -1.051141       0  -0.552366     -0.24649       0.16767   1.88511   \n",
       "\n",
       "     Agreeableness  Conscientiousness  Impulsiveness  Sensation-seeking  \n",
       "116       -1.77200           -0.40581        0.52975           -0.21575  \n",
       "965        1.45039           -0.40581        1.29221            1.22470  "
      ]
     },
     "execution_count": 11,
     "metadata": {},
     "output_type": "execute_result"
    }
   ],
   "source": [
    "X_train_scaled.head(2)"
   ]
  },
  {
   "cell_type": "code",
   "execution_count": 12,
   "metadata": {},
   "outputs": [],
   "source": [
    "X_test_scaled = X_test\n",
    "X_test_scaled[['Age', 'Education']] = scaler.transform(X_test_scaled[['Age', 'Education']])"
   ]
  },
  {
   "cell_type": "code",
   "execution_count": 97,
   "metadata": {},
   "outputs": [],
   "source": [
    "# X_test_scaled.head(2)"
   ]
  },
  {
   "cell_type": "code",
   "execution_count": 14,
   "metadata": {},
   "outputs": [
    {
     "data": {
      "text/plain": [
       "array([1.35543767, 4.98275862])"
      ]
     },
     "execution_count": 14,
     "metadata": {},
     "output_type": "execute_result"
    }
   ],
   "source": [
    "scaler.mean_"
   ]
  },
  {
   "cell_type": "code",
   "execution_count": 15,
   "metadata": {},
   "outputs": [
    {
     "data": {
      "text/plain": [
       "array([1.66278873, 3.16548523])"
      ]
     },
     "execution_count": 15,
     "metadata": {},
     "output_type": "execute_result"
    }
   ],
   "source": [
    "scaler.var_"
   ]
  },
  {
   "cell_type": "markdown",
   "metadata": {},
   "source": [
    "## 2. Modeling"
   ]
  },
  {
   "cell_type": "markdown",
   "metadata": {},
   "source": [
    "We were comparing the following models:\n",
    "    - Logistic regression\n",
    "    - Decesion tree\n",
    "    - Random forest\n",
    "    - Gradient boosting\n",
    "    - XGBoosting\n",
    "    - K Nearest Neighbors\n",
    "    - Support Vector Machine\n",
    "\n",
    "To select the best performing parameters we were applying gridsearch.\n",
    "\n",
    "Every model is tested on the test set. Big difference between 'Best score' and 'Test score' implies overfitting of the model."
   ]
  },
  {
   "cell_type": "markdown",
   "metadata": {},
   "source": [
    "\n",
    "## 2.1. Logistic regression"
   ]
  },
  {
   "cell_type": "code",
   "execution_count": 16,
   "metadata": {},
   "outputs": [
    {
     "name": "stdout",
     "output_type": "stream",
     "text": [
      "Fitting 5 folds for each of 14 candidates, totalling 70 fits\n"
     ]
    },
    {
     "name": "stderr",
     "output_type": "stream",
     "text": [
      "[Parallel(n_jobs=-1)]: Using backend LokyBackend with 4 concurrent workers.\n",
      "[Parallel(n_jobs=-1)]: Done  70 out of  70 | elapsed:    3.4s finished\n"
     ]
    },
    {
     "data": {
      "text/plain": [
       "GridSearchCV(cv=5, error_score='raise-deprecating',\n",
       "             estimator=LogisticRegression(C=1.0, class_weight=None, dual=False,\n",
       "                                          fit_intercept=True,\n",
       "                                          intercept_scaling=1, l1_ratio=None,\n",
       "                                          max_iter=100, multi_class='warn',\n",
       "                                          n_jobs=None, penalty='l2',\n",
       "                                          random_state=123, solver='warn',\n",
       "                                          tol=0.0001, verbose=0,\n",
       "                                          warm_start=False),\n",
       "             iid='warn', n_jobs=-1,\n",
       "             param_grid={'C': array([1.e-02, 1.e-01, 1.e+00, 1.e+01, 1.e+02, 1.e+03, 1.e+04]),\n",
       "                         'penalty': ['l1', 'l2']},\n",
       "             pre_dispatch='2*n_jobs', refit=True, return_train_score=False,\n",
       "             scoring='accuracy', verbose=1)"
      ]
     },
     "execution_count": 16,
     "metadata": {},
     "output_type": "execute_result"
    }
   ],
   "source": [
    "params = {'C': np.logspace(-2, 4, 7),\n",
    "          'penalty' : ['l1','l2']}\n",
    "\n",
    "log_grid = GridSearchCV(estimator=LogisticRegression(random_state=123),\n",
    "                          param_grid=params,\n",
    "                          scoring='accuracy',\n",
    "                          cv=5, verbose=1, n_jobs=-1)\n",
    "\n",
    "log_grid.fit(X_train_scaled, y_train)"
   ]
  },
  {
   "cell_type": "code",
   "execution_count": 17,
   "metadata": {},
   "outputs": [
    {
     "name": "stdout",
     "output_type": "stream",
     "text": [
      "Best score: 0.749\n",
      "Best parameters:\n",
      "\t {'C': 0.01, 'penalty': 'l2'}\n",
      "Test score: 0.732\n"
     ]
    }
   ],
   "source": [
    "print(f'Best score: {log_grid.best_score_:.3f}')\n",
    "print('Best parameters:\\n\\t',log_grid.best_params_)\n",
    "print(f'Test score: {log_grid.best_estimator_.score(X_test_scaled, y_test):.3f}')"
   ]
  },
  {
   "cell_type": "code",
   "execution_count": 18,
   "metadata": {},
   "outputs": [
    {
     "data": {
      "text/html": [
       "<div>\n",
       "<style scoped>\n",
       "    .dataframe tbody tr th:only-of-type {\n",
       "        vertical-align: middle;\n",
       "    }\n",
       "\n",
       "    .dataframe tbody tr th {\n",
       "        vertical-align: top;\n",
       "    }\n",
       "\n",
       "    .dataframe thead th {\n",
       "        text-align: right;\n",
       "    }\n",
       "</style>\n",
       "<table border=\"1\" class=\"dataframe\">\n",
       "  <thead>\n",
       "    <tr style=\"text-align: right;\">\n",
       "      <th></th>\n",
       "      <th>Feature</th>\n",
       "      <th>Coef</th>\n",
       "    </tr>\n",
       "  </thead>\n",
       "  <tbody>\n",
       "    <tr>\n",
       "      <th>0</th>\n",
       "      <td>Age</td>\n",
       "      <td>-0.505322</td>\n",
       "    </tr>\n",
       "    <tr>\n",
       "      <th>7</th>\n",
       "      <td>Conscientiousness</td>\n",
       "      <td>-0.182681</td>\n",
       "    </tr>\n",
       "    <tr>\n",
       "      <th>2</th>\n",
       "      <td>Education</td>\n",
       "      <td>-0.168978</td>\n",
       "    </tr>\n",
       "    <tr>\n",
       "      <th>6</th>\n",
       "      <td>Agreeableness</td>\n",
       "      <td>-0.082988</td>\n",
       "    </tr>\n",
       "    <tr>\n",
       "      <th>3</th>\n",
       "      <td>Neuroticism</td>\n",
       "      <td>0.034934</td>\n",
       "    </tr>\n",
       "    <tr>\n",
       "      <th>4</th>\n",
       "      <td>Extraversion</td>\n",
       "      <td>0.047621</td>\n",
       "    </tr>\n",
       "    <tr>\n",
       "      <th>8</th>\n",
       "      <td>Impulsiveness</td>\n",
       "      <td>0.075002</td>\n",
       "    </tr>\n",
       "    <tr>\n",
       "      <th>1</th>\n",
       "      <td>Gender</td>\n",
       "      <td>0.106554</td>\n",
       "    </tr>\n",
       "    <tr>\n",
       "      <th>5</th>\n",
       "      <td>Openness</td>\n",
       "      <td>0.333606</td>\n",
       "    </tr>\n",
       "    <tr>\n",
       "      <th>9</th>\n",
       "      <td>Sensation-seeking</td>\n",
       "      <td>0.388443</td>\n",
       "    </tr>\n",
       "  </tbody>\n",
       "</table>\n",
       "</div>"
      ],
      "text/plain": [
       "             Feature      Coef\n",
       "0                Age -0.505322\n",
       "7  Conscientiousness -0.182681\n",
       "2          Education -0.168978\n",
       "6      Agreeableness -0.082988\n",
       "3        Neuroticism  0.034934\n",
       "4       Extraversion  0.047621\n",
       "8      Impulsiveness  0.075002\n",
       "1             Gender  0.106554\n",
       "5           Openness  0.333606\n",
       "9  Sensation-seeking  0.388443"
      ]
     },
     "execution_count": 18,
     "metadata": {},
     "output_type": "execute_result"
    }
   ],
   "source": [
    "coefs = pd.DataFrame(zip(X.columns, log_grid.best_estimator_.coef_[0]), columns=['Feature', 'Coef'])\n",
    "coefs.sort_values(by='Coef')"
   ]
  },
  {
   "cell_type": "markdown",
   "metadata": {},
   "source": [
    "## 2.2. Decision tree"
   ]
  },
  {
   "cell_type": "code",
   "execution_count": 19,
   "metadata": {},
   "outputs": [
    {
     "name": "stdout",
     "output_type": "stream",
     "text": [
      "Fitting 5 folds for each of 160 candidates, totalling 800 fits\n"
     ]
    },
    {
     "name": "stderr",
     "output_type": "stream",
     "text": [
      "[Parallel(n_jobs=-1)]: Using backend LokyBackend with 4 concurrent workers.\n",
      "[Parallel(n_jobs=-1)]: Done 296 tasks      | elapsed:    1.3s\n",
      "[Parallel(n_jobs=-1)]: Done 800 out of 800 | elapsed:    3.5s finished\n"
     ]
    },
    {
     "data": {
      "text/plain": [
       "GridSearchCV(cv=5, error_score='raise-deprecating',\n",
       "             estimator=DecisionTreeClassifier(class_weight=None,\n",
       "                                              criterion='gini', max_depth=None,\n",
       "                                              max_features=None,\n",
       "                                              max_leaf_nodes=None,\n",
       "                                              min_impurity_decrease=0.0,\n",
       "                                              min_impurity_split=None,\n",
       "                                              min_samples_leaf=1,\n",
       "                                              min_samples_split=2,\n",
       "                                              min_weight_fraction_leaf=0.0,\n",
       "                                              presort=False, random_state=None,\n",
       "                                              splitter='best'),\n",
       "             iid='warn', n_jobs=-1,\n",
       "             param_grid={'criterion': ['gini', 'entropy'],\n",
       "                         'max_depth': [3, 4, 5, 6, 7],\n",
       "                         'min_impurity_split': [0.03, 0.05, 0.1, 0.2],\n",
       "                         'min_samples_split': [20, 40, 60, 80]},\n",
       "             pre_dispatch='2*n_jobs', refit=True, return_train_score=False,\n",
       "             scoring='accuracy', verbose=1)"
      ]
     },
     "execution_count": 19,
     "metadata": {},
     "output_type": "execute_result"
    }
   ],
   "source": [
    "params = {'criterion': ['gini', 'entropy'],\n",
    "          'max_depth': [3, 4, 5, 6, 7],\n",
    "          'min_samples_split': [20, 40, 60, 80],\n",
    "          'min_impurity_split': [0.03, 0.05, 0.1, 0.2]}\n",
    "\n",
    "tree_grid = GridSearchCV(estimator=DecisionTreeClassifier(random_state=111),\n",
    "                         param_grid=params,\n",
    "                         scoring='accuracy',\n",
    "                         cv=5, verbose=1, n_jobs=-1)\n",
    "\n",
    "tree_grid.fit(X_train, y_train)"
   ]
  },
  {
   "cell_type": "code",
   "execution_count": 20,
   "metadata": {},
   "outputs": [
    {
     "name": "stdout",
     "output_type": "stream",
     "text": [
      "Best score: 0.735\n",
      "Best parameters:\n",
      "\t {'criterion': 'gini', 'max_depth': 4, 'min_impurity_split': 0.2, 'min_samples_split': 40}\n",
      "Test score: 0.727\n"
     ]
    }
   ],
   "source": [
    "print(f'Best score: {tree_grid.best_score_:.3f}')\n",
    "print('Best parameters:\\n\\t', tree_grid.best_params_)\n",
    "print(f'Test score: {tree_grid.best_estimator_.score(X_test, y_test):.3f}')"
   ]
  },
  {
   "cell_type": "code",
   "execution_count": 21,
   "metadata": {},
   "outputs": [
    {
     "data": {
      "text/html": [
       "<div>\n",
       "<style scoped>\n",
       "    .dataframe tbody tr th:only-of-type {\n",
       "        vertical-align: middle;\n",
       "    }\n",
       "\n",
       "    .dataframe tbody tr th {\n",
       "        vertical-align: top;\n",
       "    }\n",
       "\n",
       "    .dataframe thead th {\n",
       "        text-align: right;\n",
       "    }\n",
       "</style>\n",
       "<table border=\"1\" class=\"dataframe\">\n",
       "  <thead>\n",
       "    <tr style=\"text-align: right;\">\n",
       "      <th></th>\n",
       "      <th>Feature</th>\n",
       "      <th>Importance</th>\n",
       "    </tr>\n",
       "  </thead>\n",
       "  <tbody>\n",
       "    <tr>\n",
       "      <th>0</th>\n",
       "      <td>Age</td>\n",
       "      <td>0.302462</td>\n",
       "    </tr>\n",
       "    <tr>\n",
       "      <th>1</th>\n",
       "      <td>Gender</td>\n",
       "      <td>0.032392</td>\n",
       "    </tr>\n",
       "    <tr>\n",
       "      <th>2</th>\n",
       "      <td>Education</td>\n",
       "      <td>0.018051</td>\n",
       "    </tr>\n",
       "    <tr>\n",
       "      <th>3</th>\n",
       "      <td>Neuroticism</td>\n",
       "      <td>0.011372</td>\n",
       "    </tr>\n",
       "    <tr>\n",
       "      <th>4</th>\n",
       "      <td>Extraversion</td>\n",
       "      <td>0.000000</td>\n",
       "    </tr>\n",
       "    <tr>\n",
       "      <th>5</th>\n",
       "      <td>Openness</td>\n",
       "      <td>0.082476</td>\n",
       "    </tr>\n",
       "    <tr>\n",
       "      <th>6</th>\n",
       "      <td>Agreeableness</td>\n",
       "      <td>0.011631</td>\n",
       "    </tr>\n",
       "    <tr>\n",
       "      <th>7</th>\n",
       "      <td>Conscientiousness</td>\n",
       "      <td>0.062216</td>\n",
       "    </tr>\n",
       "    <tr>\n",
       "      <th>8</th>\n",
       "      <td>Impulsiveness</td>\n",
       "      <td>0.000000</td>\n",
       "    </tr>\n",
       "    <tr>\n",
       "      <th>9</th>\n",
       "      <td>Sensation-seeking</td>\n",
       "      <td>0.479400</td>\n",
       "    </tr>\n",
       "  </tbody>\n",
       "</table>\n",
       "</div>"
      ],
      "text/plain": [
       "             Feature  Importance\n",
       "0                Age    0.302462\n",
       "1             Gender    0.032392\n",
       "2          Education    0.018051\n",
       "3        Neuroticism    0.011372\n",
       "4       Extraversion    0.000000\n",
       "5           Openness    0.082476\n",
       "6      Agreeableness    0.011631\n",
       "7  Conscientiousness    0.062216\n",
       "8      Impulsiveness    0.000000\n",
       "9  Sensation-seeking    0.479400"
      ]
     },
     "execution_count": 21,
     "metadata": {},
     "output_type": "execute_result"
    }
   ],
   "source": [
    "feat_imp = pd.DataFrame(zip(X.columns, tree_grid.best_estimator_.feature_importances_), \n",
    "                        columns=['Feature', 'Importance'])\n",
    "feat_imp"
   ]
  },
  {
   "cell_type": "code",
   "execution_count": 22,
   "metadata": {},
   "outputs": [
    {
     "data": {
      "image/png": "[encoded data removed]",
      "text/plain": [
       "<Figure size 360x360 with 1 Axes>"
      ]
     },
     "metadata": {
      "needs_background": "light"
     },
     "output_type": "display_data"
    }
   ],
   "source": [
    "plt.figure(figsize=(5,5))\n",
    "plt.barh(feat_imp.Feature, feat_imp.Importance);"
   ]
  },
  {
   "cell_type": "markdown",
   "metadata": {},
   "source": [
    "## 2.3. Random Forest"
   ]
  },
  {
   "cell_type": "code",
   "execution_count": 23,
   "metadata": {},
   "outputs": [
    {
     "name": "stdout",
     "output_type": "stream",
     "text": [
      "Fitting 5 folds for each of 160 candidates, totalling 800 fits\n"
     ]
    },
    {
     "name": "stderr",
     "output_type": "stream",
     "text": [
      "[Parallel(n_jobs=-1)]: Using backend LokyBackend with 4 concurrent workers.\n",
      "[Parallel(n_jobs=-1)]: Done  92 tasks      | elapsed:   10.1s\n",
      "[Parallel(n_jobs=-1)]: Done 242 tasks      | elapsed:   36.6s\n",
      "[Parallel(n_jobs=-1)]: Done 492 tasks      | elapsed:  1.6min\n",
      "[Parallel(n_jobs=-1)]: Done 800 out of 800 | elapsed:  2.9min finished\n"
     ]
    },
    {
     "data": {
      "text/plain": [
       "GridSearchCV(cv=5, error_score='raise-deprecating',\n",
       "             estimator=RandomForestClassifier(bootstrap=True, class_weight=None,\n",
       "                                              criterion='gini', max_depth=None,\n",
       "                                              max_features='auto',\n",
       "                                              max_leaf_nodes=None,\n",
       "                                              min_impurity_decrease=0.0,\n",
       "                                              min_impurity_split=None,\n",
       "                                              min_samples_leaf=1,\n",
       "                                              min_samples_split=2,\n",
       "                                              min_weight_fraction_leaf=0.0,\n",
       "                                              n_estimators='warn', n_jobs=None,\n",
       "                                              oob_score=False,\n",
       "                                              random_state=None, verbose=0,\n",
       "                                              warm_start=False),\n",
       "             iid='warn', n_jobs=-1,\n",
       "             param_grid={'criterion': ['gini', 'entropy'],\n",
       "                         'max_depth': [2, 4, 6, 8, 10],\n",
       "                         'max_features': [2, 4, 6, 8],\n",
       "                         'n_estimators': [10, 100, 200, 500]},\n",
       "             pre_dispatch='2*n_jobs', refit=True, return_train_score=False,\n",
       "             scoring='accuracy', verbose=1)"
      ]
     },
     "execution_count": 23,
     "metadata": {},
     "output_type": "execute_result"
    }
   ],
   "source": [
    "params = {'n_estimators': [10, 100, 200, 500],\n",
    "          'criterion': ['gini', 'entropy'],\n",
    "          'max_depth': [2, 4, 6, 8, 10],\n",
    "          'max_features': [2, 4, 6, 8]}\n",
    "\n",
    "rf_grid = GridSearchCV(estimator=RandomForestClassifier(random_state=222),\n",
    "                       param_grid=params,\n",
    "                       scoring='accuracy',\n",
    "                       cv=5, verbose=1, n_jobs=-1)\n",
    "\n",
    "rf_grid.fit(X_train, y_train)"
   ]
  },
  {
   "cell_type": "code",
   "execution_count": 25,
   "metadata": {},
   "outputs": [
    {
     "name": "stdout",
     "output_type": "stream",
     "text": [
      "Best score: 0.747\n",
      "Best parameters:\n",
      "\t {'criterion': 'entropy', 'max_depth': 6, 'max_features': 2, 'n_estimators': 200}\n",
      "Test score: 0.721\n"
     ]
    }
   ],
   "source": [
    "print(f'Best score: {rf_grid.best_score_:.3f}')\n",
    "print('Best parameters:\\n\\t',rf_grid.best_params_)\n",
    "print(f'Test score: {rf_grid.best_estimator_.score(X_test, y_test):.3f}')"
   ]
  },
  {
   "cell_type": "code",
   "execution_count": 26,
   "metadata": {},
   "outputs": [
    {
     "data": {
      "text/html": [
       "<div>\n",
       "<style scoped>\n",
       "    .dataframe tbody tr th:only-of-type {\n",
       "        vertical-align: middle;\n",
       "    }\n",
       "\n",
       "    .dataframe tbody tr th {\n",
       "        vertical-align: top;\n",
       "    }\n",
       "\n",
       "    .dataframe thead th {\n",
       "        text-align: right;\n",
       "    }\n",
       "</style>\n",
       "<table border=\"1\" class=\"dataframe\">\n",
       "  <thead>\n",
       "    <tr style=\"text-align: right;\">\n",
       "      <th></th>\n",
       "      <th>Feature</th>\n",
       "      <th>Importance</th>\n",
       "    </tr>\n",
       "  </thead>\n",
       "  <tbody>\n",
       "    <tr>\n",
       "      <th>0</th>\n",
       "      <td>Age</td>\n",
       "      <td>0.206653</td>\n",
       "    </tr>\n",
       "    <tr>\n",
       "      <th>9</th>\n",
       "      <td>Sensation-seeking</td>\n",
       "      <td>0.187875</td>\n",
       "    </tr>\n",
       "    <tr>\n",
       "      <th>5</th>\n",
       "      <td>Openness</td>\n",
       "      <td>0.148012</td>\n",
       "    </tr>\n",
       "    <tr>\n",
       "      <th>7</th>\n",
       "      <td>Conscientiousness</td>\n",
       "      <td>0.095973</td>\n",
       "    </tr>\n",
       "    <tr>\n",
       "      <th>2</th>\n",
       "      <td>Education</td>\n",
       "      <td>0.073912</td>\n",
       "    </tr>\n",
       "    <tr>\n",
       "      <th>8</th>\n",
       "      <td>Impulsiveness</td>\n",
       "      <td>0.064825</td>\n",
       "    </tr>\n",
       "    <tr>\n",
       "      <th>4</th>\n",
       "      <td>Extraversion</td>\n",
       "      <td>0.060068</td>\n",
       "    </tr>\n",
       "    <tr>\n",
       "      <th>3</th>\n",
       "      <td>Neuroticism</td>\n",
       "      <td>0.059851</td>\n",
       "    </tr>\n",
       "    <tr>\n",
       "      <th>6</th>\n",
       "      <td>Agreeableness</td>\n",
       "      <td>0.055942</td>\n",
       "    </tr>\n",
       "    <tr>\n",
       "      <th>1</th>\n",
       "      <td>Gender</td>\n",
       "      <td>0.046888</td>\n",
       "    </tr>\n",
       "  </tbody>\n",
       "</table>\n",
       "</div>"
      ],
      "text/plain": [
       "             Feature  Importance\n",
       "0                Age    0.206653\n",
       "9  Sensation-seeking    0.187875\n",
       "5           Openness    0.148012\n",
       "7  Conscientiousness    0.095973\n",
       "2          Education    0.073912\n",
       "8      Impulsiveness    0.064825\n",
       "4       Extraversion    0.060068\n",
       "3        Neuroticism    0.059851\n",
       "6      Agreeableness    0.055942\n",
       "1             Gender    0.046888"
      ]
     },
     "execution_count": 26,
     "metadata": {},
     "output_type": "execute_result"
    }
   ],
   "source": [
    "feat_imp_rf = pd.DataFrame(zip(X.columns, rf_grid.best_estimator_.feature_importances_), \n",
    "                        columns=['Feature', 'Importance'])\n",
    "feat_imp_rf.sort_values(by='Importance', ascending=False, inplace=True)\n",
    "feat_imp_rf"
   ]
  },
  {
   "cell_type": "markdown",
   "metadata": {},
   "source": [
    "## 2.4. Gradient Boosting"
   ]
  },
  {
   "cell_type": "code",
   "execution_count": 29,
   "metadata": {},
   "outputs": [
    {
     "name": "stdout",
     "output_type": "stream",
     "text": [
      "Fitting 5 folds for each of 192 candidates, totalling 960 fits\n"
     ]
    },
    {
     "name": "stderr",
     "output_type": "stream",
     "text": [
      "[Parallel(n_jobs=-1)]: Using backend LokyBackend with 4 concurrent workers.\n",
      "[Parallel(n_jobs=-1)]: Done 230 tasks      | elapsed:    9.6s\n",
      "[Parallel(n_jobs=-1)]: Done 530 tasks      | elapsed:   27.7s\n",
      "[Parallel(n_jobs=-1)]: Done 960 out of 960 | elapsed:   59.0s finished\n"
     ]
    },
    {
     "data": {
      "text/plain": [
       "GridSearchCV(cv=5, error_score='raise-deprecating',\n",
       "             estimator=GradientBoostingClassifier(criterion='friedman_mse',\n",
       "                                                  init=None, learning_rate=0.1,\n",
       "                                                  loss='deviance', max_depth=3,\n",
       "                                                  max_features=None,\n",
       "                                                  max_leaf_nodes=None,\n",
       "                                                  min_impurity_decrease=0.0,\n",
       "                                                  min_impurity_split=None,\n",
       "                                                  min_samples_leaf=1,\n",
       "                                                  min_samples_split=2,\n",
       "                                                  min_weight_fraction_leaf=0.0,\n",
       "                                                  n_estimators=100,\n",
       "                                                  n_iter_no_change=None,\n",
       "                                                  presort='auto',\n",
       "                                                  random_state=123,\n",
       "                                                  subsample=1.0, tol=0.0001,\n",
       "                                                  validation_fraction=0.1,\n",
       "                                                  verbose=0, warm_start=False),\n",
       "             iid='warn', n_jobs=-1,\n",
       "             param_grid={'learning_rate': [0.1, 0.2, 0.4],\n",
       "                         'max_depth': [2, 3, 4, 5],\n",
       "                         'max_features': [2, 3, 4, 5],\n",
       "                         'n_estimators': [10, 50, 100, 200]},\n",
       "             pre_dispatch='2*n_jobs', refit=True, return_train_score=False,\n",
       "             scoring='accuracy', verbose=1)"
      ]
     },
     "execution_count": 29,
     "metadata": {},
     "output_type": "execute_result"
    }
   ],
   "source": [
    "params = {\"learning_rate\": [0.1, 0.2, 0.4],\n",
    "          'max_depth': [2, 3, 4, 5],\n",
    "          'max_features': [2, 3, 4, 5],\n",
    "          'n_estimators': [10, 50, 100, 200],\n",
    "          }\n",
    "\n",
    "g_boost = GridSearchCV(estimator=GradientBoostingClassifier(random_state=123),\n",
    "                          param_grid=params,\n",
    "                          scoring='accuracy',\n",
    "                          cv=5, verbose=1, n_jobs=-1)\n",
    "\n",
    "g_boost.fit(X_train, y_train)"
   ]
  },
  {
   "cell_type": "code",
   "execution_count": 30,
   "metadata": {},
   "outputs": [
    {
     "name": "stdout",
     "output_type": "stream",
     "text": [
      "Best score: 0.749\n",
      "Best parameters:\n",
      "\t {'learning_rate': 0.4, 'max_depth': 5, 'max_features': 3, 'n_estimators': 10}\n",
      "Test score: 0.714\n"
     ]
    }
   ],
   "source": [
    "print(f'Best score: {g_boost.best_score_:.3f}')\n",
    "print('Best parameters:\\n\\t',g_boost.best_params_)\n",
    "print(f'Test score: {g_boost.best_estimator_.score(X_test, y_test):.3f}')"
   ]
  },
  {
   "cell_type": "code",
   "execution_count": 31,
   "metadata": {},
   "outputs": [
    {
     "data": {
      "text/html": [
       "<div>\n",
       "<style scoped>\n",
       "    .dataframe tbody tr th:only-of-type {\n",
       "        vertical-align: middle;\n",
       "    }\n",
       "\n",
       "    .dataframe tbody tr th {\n",
       "        vertical-align: top;\n",
       "    }\n",
       "\n",
       "    .dataframe thead th {\n",
       "        text-align: right;\n",
       "    }\n",
       "</style>\n",
       "<table border=\"1\" class=\"dataframe\">\n",
       "  <thead>\n",
       "    <tr style=\"text-align: right;\">\n",
       "      <th></th>\n",
       "      <th>Feature</th>\n",
       "      <th>Importance</th>\n",
       "    </tr>\n",
       "  </thead>\n",
       "  <tbody>\n",
       "    <tr>\n",
       "      <th>9</th>\n",
       "      <td>Sensation-seeking</td>\n",
       "      <td>0.243655</td>\n",
       "    </tr>\n",
       "    <tr>\n",
       "      <th>0</th>\n",
       "      <td>Age</td>\n",
       "      <td>0.208606</td>\n",
       "    </tr>\n",
       "    <tr>\n",
       "      <th>5</th>\n",
       "      <td>Openness</td>\n",
       "      <td>0.155950</td>\n",
       "    </tr>\n",
       "    <tr>\n",
       "      <th>2</th>\n",
       "      <td>Education</td>\n",
       "      <td>0.090225</td>\n",
       "    </tr>\n",
       "    <tr>\n",
       "      <th>7</th>\n",
       "      <td>Conscientiousness</td>\n",
       "      <td>0.074847</td>\n",
       "    </tr>\n",
       "    <tr>\n",
       "      <th>3</th>\n",
       "      <td>Neuroticism</td>\n",
       "      <td>0.058696</td>\n",
       "    </tr>\n",
       "    <tr>\n",
       "      <th>4</th>\n",
       "      <td>Extraversion</td>\n",
       "      <td>0.046805</td>\n",
       "    </tr>\n",
       "    <tr>\n",
       "      <th>6</th>\n",
       "      <td>Agreeableness</td>\n",
       "      <td>0.044582</td>\n",
       "    </tr>\n",
       "    <tr>\n",
       "      <th>8</th>\n",
       "      <td>Impulsiveness</td>\n",
       "      <td>0.039006</td>\n",
       "    </tr>\n",
       "    <tr>\n",
       "      <th>1</th>\n",
       "      <td>Gender</td>\n",
       "      <td>0.037627</td>\n",
       "    </tr>\n",
       "  </tbody>\n",
       "</table>\n",
       "</div>"
      ],
      "text/plain": [
       "             Feature  Importance\n",
       "9  Sensation-seeking    0.243655\n",
       "0                Age    0.208606\n",
       "5           Openness    0.155950\n",
       "2          Education    0.090225\n",
       "7  Conscientiousness    0.074847\n",
       "3        Neuroticism    0.058696\n",
       "4       Extraversion    0.046805\n",
       "6      Agreeableness    0.044582\n",
       "8      Impulsiveness    0.039006\n",
       "1             Gender    0.037627"
      ]
     },
     "execution_count": 31,
     "metadata": {},
     "output_type": "execute_result"
    }
   ],
   "source": [
    "feat_imp_gb = pd.DataFrame(zip(X.columns, g_boost.best_estimator_.feature_importances_), \n",
    "                        columns=['Feature', 'Importance'])\n",
    "feat_imp_gb.sort_values(by='Importance', ascending=False)"
   ]
  },
  {
   "cell_type": "markdown",
   "metadata": {},
   "source": [
    "## 2.5. XGBoost"
   ]
  },
  {
   "cell_type": "code",
   "execution_count": 32,
   "metadata": {},
   "outputs": [
    {
     "name": "stdout",
     "output_type": "stream",
     "text": [
      "Fitting 5 folds for each of 288 candidates, totalling 1440 fits\n"
     ]
    },
    {
     "name": "stderr",
     "output_type": "stream",
     "text": [
      "[Parallel(n_jobs=-1)]: Using backend LokyBackend with 4 concurrent workers.\n",
      "[Parallel(n_jobs=-1)]: Done  42 tasks      | elapsed:    5.5s\n",
      "[Parallel(n_jobs=-1)]: Done 302 tasks      | elapsed:   21.0s\n",
      "[Parallel(n_jobs=-1)]: Done 642 tasks      | elapsed:   52.3s\n",
      "[Parallel(n_jobs=-1)]: Done 992 tasks      | elapsed:  1.3min\n",
      "[Parallel(n_jobs=-1)]: Done 1440 out of 1440 | elapsed:  2.1min finished\n"
     ]
    },
    {
     "data": {
      "text/plain": [
       "GridSearchCV(cv=5, error_score='raise-deprecating',\n",
       "             estimator=XGBClassifier(base_score=0.5, booster='gbtree',\n",
       "                                     colsample_bylevel=1, colsample_bynode=1,\n",
       "                                     colsample_bytree=1, gamma=0,\n",
       "                                     learning_rate=0.1, max_delta_step=0,\n",
       "                                     max_depth=3, min_child_weight=1,\n",
       "                                     missing=None, n_estimators=100, n_jobs=1,\n",
       "                                     nthread=None, objective='binary:logistic',\n",
       "                                     random_state=234, reg_alpha=0,\n",
       "                                     reg_lambda=1, scale_pos_weight=1,\n",
       "                                     seed=None, silent=None, subsample=1,\n",
       "                                     verbosity=1),\n",
       "             iid='warn', n_jobs=-1,\n",
       "             param_grid={'learning_rate': [0.1, 0.2], 'max_depth': [2, 3, 4, 5],\n",
       "                         'min_child_weight': [0.1, 0.2, 0.3],\n",
       "                         'n_estimators': [50, 100, 150, 200],\n",
       "                         'subsample': [0.2, 0.3, 0.5]},\n",
       "             pre_dispatch='2*n_jobs', refit=True, return_train_score=False,\n",
       "             scoring='accuracy', verbose=1)"
      ]
     },
     "execution_count": 32,
     "metadata": {},
     "output_type": "execute_result"
    }
   ],
   "source": [
    "params = {\"learning_rate\": [0.1, 0.2],\n",
    "          'max_depth': [2, 3, 4, 5],\n",
    "          'min_child_weight': [0.1, 0.2, 0.3],\n",
    "          'subsample': [0.2, 0.3, 0.5],\n",
    "          'n_estimators': [50, 100, 150, 200],\n",
    "          }\n",
    "\n",
    "xg_boost = GridSearchCV(estimator=xgb.XGBClassifier(random_state=234),\n",
    "                          param_grid=params,\n",
    "                          scoring='accuracy',\n",
    "                          cv=5, verbose=1, n_jobs=-1)\n",
    "\n",
    "xg_boost.fit(X_train, y_train)"
   ]
  },
  {
   "cell_type": "code",
   "execution_count": 33,
   "metadata": {},
   "outputs": [
    {
     "name": "stdout",
     "output_type": "stream",
     "text": [
      "Best score: 0.747\n",
      "Best parameters:\n",
      "\t {'learning_rate': 0.1, 'max_depth': 2, 'min_child_weight': 0.1, 'n_estimators': 50, 'subsample': 0.3}\n",
      "Test score: 0.711\n"
     ]
    }
   ],
   "source": [
    "print(f'Best score: {xg_boost.best_score_:.3f}')\n",
    "print('Best parameters:\\n\\t',xg_boost.best_params_)\n",
    "print(f'Test score: {xg_boost.best_estimator_.score(X_test, y_test):.3f}')"
   ]
  },
  {
   "cell_type": "markdown",
   "metadata": {},
   "source": [
    "## 2.6. KNN "
   ]
  },
  {
   "cell_type": "code",
   "execution_count": 36,
   "metadata": {},
   "outputs": [
    {
     "name": "stdout",
     "output_type": "stream",
     "text": [
      "Fitting 5 folds for each of 15 candidates, totalling 75 fits\n"
     ]
    },
    {
     "name": "stderr",
     "output_type": "stream",
     "text": [
      "[Parallel(n_jobs=-1)]: Using backend LokyBackend with 4 concurrent workers.\n"
     ]
    },
    {
     "name": "stdout",
     "output_type": "stream",
     "text": [
      "Best score: 0.737\n",
      "Best parameters:\n",
      "\t {'n_neighbors': 25}\n",
      "Test score: 0.703\n"
     ]
    },
    {
     "name": "stderr",
     "output_type": "stream",
     "text": [
      "[Parallel(n_jobs=-1)]: Done  75 out of  75 | elapsed:    1.0s finished\n"
     ]
    }
   ],
   "source": [
    "params = {'n_neighbors': range(1, 30, 2)}\n",
    "\n",
    "\n",
    "knn_grid = GridSearchCV(estimator=KNeighborsClassifier(),\n",
    "                        param_grid=params,\n",
    "                        scoring='accuracy',\n",
    "                        cv=5, verbose=1, n_jobs=-1)\n",
    "\n",
    "knn_grid.fit(X_train_scaled, y_train)\n",
    "\n",
    "print(f'Best score: {knn_grid.best_score_:.3f}')\n",
    "print('Best parameters:\\n\\t', knn_grid.best_params_)\n",
    "print(f'Test score: {knn_grid.best_estimator_.score(X_test_scaled, y_test):.3f}')"
   ]
  },
  {
   "cell_type": "markdown",
   "metadata": {},
   "source": [
    "## 2.7. Support Vector Machine"
   ]
  },
  {
   "cell_type": "code",
   "execution_count": 76,
   "metadata": {},
   "outputs": [
    {
     "name": "stdout",
     "output_type": "stream",
     "text": [
      "Fitting 5 folds for each of 24 candidates, totalling 120 fits\n"
     ]
    },
    {
     "name": "stderr",
     "output_type": "stream",
     "text": [
      "[Parallel(n_jobs=-1)]: Using backend LokyBackend with 4 concurrent workers.\n",
      "[Parallel(n_jobs=-1)]: Done  42 tasks      | elapsed:    5.9s\n"
     ]
    },
    {
     "name": "stdout",
     "output_type": "stream",
     "text": [
      "Best score: 0.755\n",
      "Best parameters:\n",
      "\t {'C': 1, 'degree': 2, 'kernel': 'linear'}\n",
      "Test score: 0.727\n"
     ]
    },
    {
     "name": "stderr",
     "output_type": "stream",
     "text": [
      "[Parallel(n_jobs=-1)]: Done 120 out of 120 | elapsed:  2.6min finished\n"
     ]
    }
   ],
   "source": [
    "params = {'kernel': ['linear', 'poly', 'rbf'],\n",
    "          'C': [0.1, 1, 10, 1000], #high C allows narrow mistakes\n",
    "          'degree': [2, 3]}\n",
    "\n",
    "\n",
    "svm_grid = GridSearchCV(estimator=svm.SVC(random_state=766),\n",
    "                        param_grid=params,\n",
    "                        scoring='accuracy',\n",
    "                        cv=5, verbose=1, n_jobs=-1)\n",
    "\n",
    "svm_grid.fit(X_train_scaled, y_train)\n",
    "\n",
    "print(f'Best score: {svm_grid.best_score_:.3f}')\n",
    "print('Best parameters:\\n\\t', svm_grid.best_params_)\n",
    "print(f'Test score: {svm_grid.best_estimator_.score(X_test_scaled, y_test):.3f}')"
   ]
  },
  {
   "cell_type": "markdown",
   "metadata": {},
   "source": [
    "## FINDINGS"
   ]
  },
  {
   "cell_type": "markdown",
   "metadata": {},
   "source": [
    "## 3.1. ROC curves"
   ]
  },
  {
   "cell_type": "markdown",
   "metadata": {},
   "source": [
    "We are using ROC (Receiver Operating Characteristic) curves and AUC (Area Under the Curve) to compare the performance of different models and select the most predictible one. The x axis of the ROC curve is the False Positive Rate (we want to minimize it), the y axis is the True Positive Rate (we want to maximize it). So, a model which follows the dotted black line is not better than a random guess, a model which lies is above it, and goes along the y axes (AUC = 1) are the perfect predictors. The area under the curve is the quantification of the ROC curves, and the higher is the number, the better predictor is the model. AUC = 1 is the perfect predictor."
   ]
  },
  {
   "cell_type": "code",
   "execution_count": 93,
   "metadata": {},
   "outputs": [],
   "source": [
    "def plot_roc(predicted, name):\n",
    "    fpr, tpr, tresh = roc_curve(y_test, predicted)\n",
    "    auc_score = round(roc_auc_score(y_test, predicted),2)\n",
    "    plt.plot(fpr, tpr, label = f'{name}   (auc = {auc_score})')"
   ]
  },
  {
   "cell_type": "code",
   "execution_count": 94,
   "metadata": {},
   "outputs": [
    {
     "data": {
      "image/png": "[encoded data removed]",
      "text/plain": [
       "<Figure size 720x576 with 1 Axes>"
      ]
     },
     "metadata": {
      "needs_background": "light"
     },
     "output_type": "display_data"
    }
   ],
   "source": [
    "plt.figure(figsize=(10,8))\n",
    "\n",
    "plot_roc(tree_grid.best_estimator_.predict_proba(X_test)[:,1], 'Decision Tree')\n",
    "# plot_roc(rf_grid.best_estimator_.predict_proba(X_test)[:,1],'Random Forest')\n",
    "# plot_roc(xg_boost.best_estimator_.predict_proba(X_test)[:,1], 'XGBoost')\n",
    "plot_roc(knn_grid.best_estimator_.predict_proba(X_test_scaled)[:,1], 'K Nearest Neighbors')\n",
    "plot_roc(g_boost.best_estimator_.predict_proba(X_test)[:,1], 'Gradient Boosting')\n",
    "plot_roc(svm_grid.best_estimator_.decision_function(X_test_scaled), 'Support Vector Machine')\n",
    "# plot_roc(log_grid.best_estimator_.decision_function(X_test_scaled), 'Logistic Regression')\n",
    "\n",
    "plt.title('ROC Curve for Ecstasy Consumption\\n', fontsize=20)\n",
    "plt.plot((0,1), (0,1), ls='--', color='black')\n",
    "plt.legend(loc = 'lower right', frameon=False, fontsize=14)\n",
    "plt.xlabel('False Positive Rate', fontsize=16)\n",
    "plt.ylabel('True Positive Rate', fontsize=16)\n",
    "plt.xlim(-0.005,1)\n",
    "plt.ylim(0,1)\n",
    "ax =  plt.gca()\n",
    "plt.savefig('ROC_curve_ecstasy.png', bbox_inches='tight')"
   ]
  },
  {
   "cell_type": "markdown",
   "metadata": {},
   "source": [
    "According to the ROC and AUC result, we were choosing SVM model as the best predictor for predicting that somebody becomes ecstasy user."
   ]
  },
  {
   "cell_type": "markdown",
   "metadata": {},
   "source": [
    "## 3.2 Interprete the result of the SVM model"
   ]
  },
  {
   "cell_type": "code",
   "execution_count": 95,
   "metadata": {},
   "outputs": [],
   "source": [
    "feat_imp_svm = pd.DataFrame(zip(X.columns, svm_grid.best_estimator_.coef_[0]), \n",
    "                        columns=['Feature', 'Coef'])\n",
    "feat_imp_svm['Abs_coef'] = feat_imp_svm.Coef.apply(lambda x: abs(x))\n",
    "feat_imp_svm = feat_imp_svm.sort_values(by='Abs_coef')"
   ]
  },
  {
   "cell_type": "code",
   "execution_count": 96,
   "metadata": {},
   "outputs": [
    {
     "data": {
      "text/html": [
       "<div>\n",
       "<style scoped>\n",
       "    .dataframe tbody tr th:only-of-type {\n",
       "        vertical-align: middle;\n",
       "    }\n",
       "\n",
       "    .dataframe tbody tr th {\n",
       "        vertical-align: top;\n",
       "    }\n",
       "\n",
       "    .dataframe thead th {\n",
       "        text-align: right;\n",
       "    }\n",
       "</style>\n",
       "<table border=\"1\" class=\"dataframe\">\n",
       "  <thead>\n",
       "    <tr style=\"text-align: right;\">\n",
       "      <th></th>\n",
       "      <th>Feature</th>\n",
       "      <th>Coef</th>\n",
       "      <th>Abs_coef</th>\n",
       "    </tr>\n",
       "  </thead>\n",
       "  <tbody>\n",
       "    <tr>\n",
       "      <th>3</th>\n",
       "      <td>Neuroticism</td>\n",
       "      <td>0.013300</td>\n",
       "      <td>0.013300</td>\n",
       "    </tr>\n",
       "    <tr>\n",
       "      <th>8</th>\n",
       "      <td>Impulsiveness</td>\n",
       "      <td>-0.037726</td>\n",
       "      <td>0.037726</td>\n",
       "    </tr>\n",
       "    <tr>\n",
       "      <th>4</th>\n",
       "      <td>Extraversion</td>\n",
       "      <td>0.044689</td>\n",
       "      <td>0.044689</td>\n",
       "    </tr>\n",
       "    <tr>\n",
       "      <th>6</th>\n",
       "      <td>Agreeableness</td>\n",
       "      <td>-0.071096</td>\n",
       "      <td>0.071096</td>\n",
       "    </tr>\n",
       "    <tr>\n",
       "      <th>2</th>\n",
       "      <td>Education</td>\n",
       "      <td>-0.151085</td>\n",
       "      <td>0.151085</td>\n",
       "    </tr>\n",
       "    <tr>\n",
       "      <th>7</th>\n",
       "      <td>Conscientiousness</td>\n",
       "      <td>-0.200047</td>\n",
       "      <td>0.200047</td>\n",
       "    </tr>\n",
       "    <tr>\n",
       "      <th>5</th>\n",
       "      <td>Openness</td>\n",
       "      <td>0.367234</td>\n",
       "      <td>0.367234</td>\n",
       "    </tr>\n",
       "    <tr>\n",
       "      <th>9</th>\n",
       "      <td>Sensation-seeking</td>\n",
       "      <td>0.445001</td>\n",
       "      <td>0.445001</td>\n",
       "    </tr>\n",
       "    <tr>\n",
       "      <th>1</th>\n",
       "      <td>Gender</td>\n",
       "      <td>0.452999</td>\n",
       "      <td>0.452999</td>\n",
       "    </tr>\n",
       "    <tr>\n",
       "      <th>0</th>\n",
       "      <td>Age</td>\n",
       "      <td>-0.629330</td>\n",
       "      <td>0.629330</td>\n",
       "    </tr>\n",
       "  </tbody>\n",
       "</table>\n",
       "</div>"
      ],
      "text/plain": [
       "             Feature      Coef  Abs_coef\n",
       "3        Neuroticism  0.013300  0.013300\n",
       "8      Impulsiveness -0.037726  0.037726\n",
       "4       Extraversion  0.044689  0.044689\n",
       "6      Agreeableness -0.071096  0.071096\n",
       "2          Education -0.151085  0.151085\n",
       "7  Conscientiousness -0.200047  0.200047\n",
       "5           Openness  0.367234  0.367234\n",
       "9  Sensation-seeking  0.445001  0.445001\n",
       "1             Gender  0.452999  0.452999\n",
       "0                Age -0.629330  0.629330"
      ]
     },
     "execution_count": 96,
     "metadata": {},
     "output_type": "execute_result"
    }
   ],
   "source": [
    "feat_imp_svm"
   ]
  },
  {
   "cell_type": "code",
   "execution_count": 89,
   "metadata": {},
   "outputs": [
    {
     "data": {
      "image/png": "[encoded data removed]",
      "text/plain": [
       "<Figure size 576x576 with 1 Axes>"
      ]
     },
     "metadata": {
      "needs_background": "light"
     },
     "output_type": "display_data"
    }
   ],
   "source": [
    "plt.figure(figsize=(8,8))\n",
    "plt.barh(feat_imp_svm.Feature, feat_imp_svm.Abs_coef)\n",
    "plt.title('Ecstasy usage\\n', size=18)\n",
    "ax = plt.gca()\n",
    "ax.spines['right'].set_visible(False)\n",
    "ax.spines['top'].set_visible(False)\n",
    "plt.xticks(fontsize=14)\n",
    "plt.yticks(fontsize=18)\n",
    "plt.xlabel(\"Feature importance\", size=18)\n",
    "\n",
    "for i, v in enumerate(feat_imp_svm.Abs_coef):\n",
    "    ax.text(v + 0.01, i, str(round(v,2)), color='black', fontsize=18)\n",
    "    \n",
    "plt.savefig('Feature_imp_ecstasy2.png', bbox_inches='tight')"
   ]
  },
  {
   "cell_type": "markdown",
   "metadata": {},
   "source": [
    "In case of SVM model, if the kernel is linear, the feature importance is available from coefficients, since our variables are scaled. The absolute value of the coefficient can be interpreted as the featuer importance, the positive/negative value can be interpreted as their relation to becoming an ecstasy user. (For example: the higher is the openness, sensation score, it is more likely, however the older and more educated is less likely to become an ecsatsy user.)"
   ]
  },
  {
   "cell_type": "markdown",
   "metadata": {},
   "source": [
    "## 3.3. Confusion Matrix"
   ]
  },
  {
   "cell_type": "code",
   "execution_count": 74,
   "metadata": {},
   "outputs": [],
   "source": [
    "svm_cm = pd.DataFrame(confusion_matrix(y_test, svm_grid.best_estimator_.predict(X_test_scaled)),\n",
    "                      index=['actual non-user', 'actual user'],\n",
    "                      columns=['predicted non-user', 'predicted user'])\n",
    "svm_cm = round(svm_cm/len(y_test),2)"
   ]
  },
  {
   "cell_type": "code",
   "execution_count": 75,
   "metadata": {},
   "outputs": [
    {
     "data": {
      "text/html": [
       "<div>\n",
       "<style scoped>\n",
       "    .dataframe tbody tr th:only-of-type {\n",
       "        vertical-align: middle;\n",
       "    }\n",
       "\n",
       "    .dataframe tbody tr th {\n",
       "        vertical-align: top;\n",
       "    }\n",
       "\n",
       "    .dataframe thead th {\n",
       "        text-align: right;\n",
       "    }\n",
       "</style>\n",
       "<table border=\"1\" class=\"dataframe\">\n",
       "  <thead>\n",
       "    <tr style=\"text-align: right;\">\n",
       "      <th></th>\n",
       "      <th>predicted non-user</th>\n",
       "      <th>predicted user</th>\n",
       "    </tr>\n",
       "  </thead>\n",
       "  <tbody>\n",
       "    <tr>\n",
       "      <th>actual non-user</th>\n",
       "      <td>0.47</td>\n",
       "      <td>0.14</td>\n",
       "    </tr>\n",
       "    <tr>\n",
       "      <th>actual user</th>\n",
       "      <td>0.14</td>\n",
       "      <td>0.26</td>\n",
       "    </tr>\n",
       "  </tbody>\n",
       "</table>\n",
       "</div>"
      ],
      "text/plain": [
       "                 predicted non-user  predicted user\n",
       "actual non-user                0.47            0.14\n",
       "actual user                    0.14            0.26"
      ]
     },
     "execution_count": 75,
     "metadata": {},
     "output_type": "execute_result"
    }
   ],
   "source": [
    "svm_cm"
   ]
  },
  {
   "cell_type": "code",
   "execution_count": 92,
   "metadata": {},
   "outputs": [
    {
     "data": {
      "image/png": "[encoded data removed]",
      "text/plain": [
       "<Figure size 576x360 with 1 Axes>"
      ]
     },
     "metadata": {
      "needs_background": "light"
     },
     "output_type": "display_data"
    }
   ],
   "source": [
    "plt.figure(figsize=(8,5))\n",
    "plt.title('Confusion matrix for Ecstasy\\n', fontsize=20)\n",
    "# sns.set(font_scale=1.4)  # for label size\n",
    "sns.heatmap(svm_cm, cmap=sns.color_palette(\"PuBu\", 10), annot=True,\n",
    "            fmt='.0%', annot_kws={'size': 40}, cbar=False)\n",
    "plt.yticks(rotation=0, fontsize=20)\n",
    "plt.xticks(fontsize=20)\n",
    "plt.savefig('Conf_m_ecstasy.png', bbox_inches='tight')"
   ]
  }
 ],
 "metadata": {
  "kernelspec": {
   "display_name": "Python 3",
   "language": "python",
   "name": "python3"
  },
  "language_info": {
   "codemirror_mode": {
    "name": "ipython",
    "version": 3
   },
   "file_extension": ".py",
   "mimetype": "text/x-python",
   "name": "python",
   "nbconvert_exporter": "python",
   "pygments_lexer": "ipython3",
   "version": "3.7.3"
  },
  "varInspector": {
   "cols": {
    "lenName": 16,
    "lenType": 16,
    "lenVar": 40
   },
   "kernels_config": {
    "python": {
     "delete_cmd_postfix": "",
     "delete_cmd_prefix": "del ",
     "library": "var_list.py",
     "varRefreshCmd": "print(var_dic_list())"
    },
    "r": {
     "delete_cmd_postfix": ") ",
     "delete_cmd_prefix": "rm(",
     "library": "var_list.r",
     "varRefreshCmd": "cat(var_dic_list()) "
    }
   },
   "types_to_exclude": [
    "module",
    "function",
    "builtin_function_or_method",
    "instance",
    "_Feature"
   ],
   "window_display": false
  }
 },
 "nbformat": 4,
 "nbformat_minor": 2
}
